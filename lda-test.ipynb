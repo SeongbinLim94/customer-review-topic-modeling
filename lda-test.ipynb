{
 "cells": [
  {
   "cell_type": "code",
   "execution_count": 34,
   "id": "severe-dependence",
   "metadata": {},
   "outputs": [
    {
     "name": "stderr",
     "output_type": "stream",
     "text": [
      "/home/tako/anaconda3/envs/mingu/lib/python3.8/site-packages/ipykernel/ipkernel.py:283: DeprecationWarning: `should_run_async` will not call `transform_cell` automatically in the future. Please pass the result to `transformed_cell` argument and any exception that happen during thetransform in `preprocessing_exc_tuple` in IPython 7.17 and above.\n",
      "  and should_run_async(code)\n"
     ]
    }
   ],
   "source": [
    "import pandas as pd\n",
    "import numpy as np\n",
    "import matplotlib.pylab as plt\n",
    "from matplotlib import font_manager, rc\n",
    "import khaiii\n",
    "from khaiii import KhaiiiApi\n",
    "import seaborn as sns\n",
    "import re\n",
    "import gensim\n",
    "from gensim import corpora\n",
    "from gensim import models\n",
    "from gensim.models import LdaModel\n",
    "from gensim.models.coherencemodel import CoherenceModel\n",
    "import pyLDAvis\n",
    "import pyLDAvis.gensim\n",
    "import matplotlib.pyplot as plt\n",
    "%matplotlib inline"
   ]
  },
  {
   "cell_type": "code",
   "execution_count": 2,
   "id": "endangered-alarm",
   "metadata": {},
   "outputs": [
    {
     "name": "stderr",
     "output_type": "stream",
     "text": [
      "/home/tako/anaconda3/envs/mingu/lib/python3.8/site-packages/ipykernel/ipkernel.py:283: DeprecationWarning: `should_run_async` will not call `transform_cell` automatically in the future. Please pass the result to `transformed_cell` argument and any exception that happen during thetransform in `preprocessing_exc_tuple` in IPython 7.17 and above.\n",
      "  and should_run_async(code)\n"
     ]
    }
   ],
   "source": [
    "apple = font_manager.FontProperties(fname = '/usr/share/fonts/truetype/nanum/NanumMyeongjo.ttf').get_name()\n",
    "rc('font', family = apple)"
   ]
  },
  {
   "cell_type": "code",
   "execution_count": 3,
   "id": "veterinary-circuit",
   "metadata": {},
   "outputs": [
    {
     "name": "stderr",
     "output_type": "stream",
     "text": [
      "/home/tako/anaconda3/envs/mingu/lib/python3.8/site-packages/ipykernel/ipkernel.py:283: DeprecationWarning: `should_run_async` will not call `transform_cell` automatically in the future. Please pass the result to `transformed_cell` argument and any exception that happen during thetransform in `preprocessing_exc_tuple` in IPython 7.17 and above.\n",
      "  and should_run_async(code)\n"
     ]
    }
   ],
   "source": [
    "kb_df = pd.read_csv('kb.csv').drop(columns='Unnamed: 0')"
   ]
  },
  {
   "cell_type": "code",
   "execution_count": 4,
   "id": "sensitive-beast",
   "metadata": {},
   "outputs": [
    {
     "name": "stderr",
     "output_type": "stream",
     "text": [
      "/home/tako/anaconda3/envs/mingu/lib/python3.8/site-packages/ipykernel/ipkernel.py:283: DeprecationWarning: `should_run_async` will not call `transform_cell` automatically in the future. Please pass the result to `transformed_cell` argument and any exception that happen during thetransform in `preprocessing_exc_tuple` in IPython 7.17 and above.\n",
      "  and should_run_async(code)\n"
     ]
    },
    {
     "data": {
      "text/html": [
       "<div>\n",
       "<style scoped>\n",
       "    .dataframe tbody tr th:only-of-type {\n",
       "        vertical-align: middle;\n",
       "    }\n",
       "\n",
       "    .dataframe tbody tr th {\n",
       "        vertical-align: top;\n",
       "    }\n",
       "\n",
       "    .dataframe thead th {\n",
       "        text-align: right;\n",
       "    }\n",
       "</style>\n",
       "<table border=\"1\" class=\"dataframe\">\n",
       "  <thead>\n",
       "    <tr style=\"text-align: right;\">\n",
       "      <th></th>\n",
       "      <th>DATE</th>\n",
       "      <th>STAR</th>\n",
       "      <th>LIKE</th>\n",
       "      <th>REVIEW</th>\n",
       "    </tr>\n",
       "  </thead>\n",
       "  <tbody>\n",
       "    <tr>\n",
       "      <th>0</th>\n",
       "      <td>2021-3-9</td>\n",
       "      <td>별표 5개 만점에 1개를 받았습니다.</td>\n",
       "      <td>5</td>\n",
       "      <td>진짜 리뷰 지금까지 살면서 처음 써보는데 이따위 쓰레기 증권앱이 존재한다는게 참 어...</td>\n",
       "    </tr>\n",
       "    <tr>\n",
       "      <th>1</th>\n",
       "      <td>2021-3-10</td>\n",
       "      <td>별표 5개 만점에 1개를 받았습니다.</td>\n",
       "      <td>1</td>\n",
       "      <td>최악이네요.... 업데이트 이후 실행단계에서 다음으로 안넘어가네요. 요즘같은 시기에...</td>\n",
       "    </tr>\n",
       "    <tr>\n",
       "      <th>2</th>\n",
       "      <td>2021-3-8</td>\n",
       "      <td>별표 5개 만점에 5개를 받았습니다.</td>\n",
       "      <td>8</td>\n",
       "      <td>최근에 코스피, 코스피200, 코스닥, 코스닥 150 등 지수들 차트가 안뜨는 경우...</td>\n",
       "    </tr>\n",
       "    <tr>\n",
       "      <th>3</th>\n",
       "      <td>2021-3-10</td>\n",
       "      <td>별표 5개 만점에 2개를 받았습니다.</td>\n",
       "      <td>1</td>\n",
       "      <td>주식현재가 창으로 넘어가면 왜 무조건 호가창을 보여주게 하나요 옵션으로 바꾸게 해주...</td>\n",
       "    </tr>\n",
       "    <tr>\n",
       "      <th>4</th>\n",
       "      <td>2021-3-5</td>\n",
       "      <td>별표 5개 만점에 2개를 받았습니다.</td>\n",
       "      <td>1</td>\n",
       "      <td>진짜 플레이 앱에 리뷰 살면서 한번도 안써봤는데 제발 개발진 여러분 부탁이니깐 1월...</td>\n",
       "    </tr>\n",
       "  </tbody>\n",
       "</table>\n",
       "</div>"
      ],
      "text/plain": [
       "        DATE                  STAR  LIKE  \\\n",
       "0   2021-3-9  별표 5개 만점에 1개를 받았습니다.     5   \n",
       "1  2021-3-10  별표 5개 만점에 1개를 받았습니다.     1   \n",
       "2   2021-3-8  별표 5개 만점에 5개를 받았습니다.     8   \n",
       "3  2021-3-10  별표 5개 만점에 2개를 받았습니다.     1   \n",
       "4   2021-3-5  별표 5개 만점에 2개를 받았습니다.     1   \n",
       "\n",
       "                                              REVIEW  \n",
       "0  진짜 리뷰 지금까지 살면서 처음 써보는데 이따위 쓰레기 증권앱이 존재한다는게 참 어...  \n",
       "1  최악이네요.... 업데이트 이후 실행단계에서 다음으로 안넘어가네요. 요즘같은 시기에...  \n",
       "2  최근에 코스피, 코스피200, 코스닥, 코스닥 150 등 지수들 차트가 안뜨는 경우...  \n",
       "3  주식현재가 창으로 넘어가면 왜 무조건 호가창을 보여주게 하나요 옵션으로 바꾸게 해주...  \n",
       "4  진짜 플레이 앱에 리뷰 살면서 한번도 안써봤는데 제발 개발진 여러분 부탁이니깐 1월...  "
      ]
     },
     "execution_count": 4,
     "metadata": {},
     "output_type": "execute_result"
    }
   ],
   "source": [
    "kb_df.head()"
   ]
  },
  {
   "cell_type": "code",
   "execution_count": 5,
   "id": "black-bottle",
   "metadata": {},
   "outputs": [
    {
     "name": "stderr",
     "output_type": "stream",
     "text": [
      "/home/tako/anaconda3/envs/mingu/lib/python3.8/site-packages/ipykernel/ipkernel.py:283: DeprecationWarning: `should_run_async` will not call `transform_cell` automatically in the future. Please pass the result to `transformed_cell` argument and any exception that happen during thetransform in `preprocessing_exc_tuple` in IPython 7.17 and above.\n",
      "  and should_run_async(code)\n"
     ]
    },
    {
     "data": {
      "text/plain": [
       "(7360, 4)"
      ]
     },
     "execution_count": 5,
     "metadata": {},
     "output_type": "execute_result"
    }
   ],
   "source": [
    "kb_df.shape"
   ]
  },
  {
   "cell_type": "markdown",
   "id": "instant-positive",
   "metadata": {},
   "source": [
    "### Data Preprocessing ###"
   ]
  },
  {
   "cell_type": "code",
   "execution_count": 6,
   "id": "greater-denver",
   "metadata": {},
   "outputs": [
    {
     "name": "stderr",
     "output_type": "stream",
     "text": [
      "/home/tako/anaconda3/envs/mingu/lib/python3.8/site-packages/ipykernel/ipkernel.py:283: DeprecationWarning: `should_run_async` will not call `transform_cell` automatically in the future. Please pass the result to `transformed_cell` argument and any exception that happen during thetransform in `preprocessing_exc_tuple` in IPython 7.17 and above.\n",
      "  and should_run_async(code)\n"
     ]
    },
    {
     "data": {
      "text/html": [
       "<div>\n",
       "<style scoped>\n",
       "    .dataframe tbody tr th:only-of-type {\n",
       "        vertical-align: middle;\n",
       "    }\n",
       "\n",
       "    .dataframe tbody tr th {\n",
       "        vertical-align: top;\n",
       "    }\n",
       "\n",
       "    .dataframe thead th {\n",
       "        text-align: right;\n",
       "    }\n",
       "</style>\n",
       "<table border=\"1\" class=\"dataframe\">\n",
       "  <thead>\n",
       "    <tr style=\"text-align: right;\">\n",
       "      <th></th>\n",
       "      <th>DATE</th>\n",
       "      <th>STAR</th>\n",
       "      <th>LIKE</th>\n",
       "      <th>REVIEW</th>\n",
       "    </tr>\n",
       "  </thead>\n",
       "  <tbody>\n",
       "    <tr>\n",
       "      <th>0</th>\n",
       "      <td>2021-3-9</td>\n",
       "      <td>1</td>\n",
       "      <td>5</td>\n",
       "      <td>진짜 리뷰 지금까지 살면서 처음 써보는데 이따위 쓰레기 증권앱이 존재한다는게 참 어...</td>\n",
       "    </tr>\n",
       "    <tr>\n",
       "      <th>1</th>\n",
       "      <td>2021-3-10</td>\n",
       "      <td>1</td>\n",
       "      <td>1</td>\n",
       "      <td>최악이네요.... 업데이트 이후 실행단계에서 다음으로 안넘어가네요. 요즘같은 시기에...</td>\n",
       "    </tr>\n",
       "    <tr>\n",
       "      <th>2</th>\n",
       "      <td>2021-3-8</td>\n",
       "      <td>5</td>\n",
       "      <td>8</td>\n",
       "      <td>최근에 코스피, 코스피200, 코스닥, 코스닥 150 등 지수들 차트가 안뜨는 경우...</td>\n",
       "    </tr>\n",
       "    <tr>\n",
       "      <th>3</th>\n",
       "      <td>2021-3-10</td>\n",
       "      <td>2</td>\n",
       "      <td>1</td>\n",
       "      <td>주식현재가 창으로 넘어가면 왜 무조건 호가창을 보여주게 하나요 옵션으로 바꾸게 해주...</td>\n",
       "    </tr>\n",
       "    <tr>\n",
       "      <th>4</th>\n",
       "      <td>2021-3-5</td>\n",
       "      <td>2</td>\n",
       "      <td>1</td>\n",
       "      <td>진짜 플레이 앱에 리뷰 살면서 한번도 안써봤는데 제발 개발진 여러분 부탁이니깐 1월...</td>\n",
       "    </tr>\n",
       "  </tbody>\n",
       "</table>\n",
       "</div>"
      ],
      "text/plain": [
       "        DATE STAR  LIKE                                             REVIEW\n",
       "0   2021-3-9    1     5  진짜 리뷰 지금까지 살면서 처음 써보는데 이따위 쓰레기 증권앱이 존재한다는게 참 어...\n",
       "1  2021-3-10    1     1  최악이네요.... 업데이트 이후 실행단계에서 다음으로 안넘어가네요. 요즘같은 시기에...\n",
       "2   2021-3-8    5     8  최근에 코스피, 코스피200, 코스닥, 코스닥 150 등 지수들 차트가 안뜨는 경우...\n",
       "3  2021-3-10    2     1  주식현재가 창으로 넘어가면 왜 무조건 호가창을 보여주게 하나요 옵션으로 바꾸게 해주...\n",
       "4   2021-3-5    2     1  진짜 플레이 앱에 리뷰 살면서 한번도 안써봤는데 제발 개발진 여러분 부탁이니깐 1월..."
      ]
     },
     "execution_count": 6,
     "metadata": {},
     "output_type": "execute_result"
    }
   ],
   "source": [
    "kb_df['STAR'] = kb_df['STAR'].apply(lambda x: x[10])\n",
    "kb_df.head()"
   ]
  },
  {
   "cell_type": "code",
   "execution_count": 7,
   "id": "oriental-extreme",
   "metadata": {},
   "outputs": [
    {
     "name": "stdout",
     "output_type": "stream",
     "text": [
      "max date is 2021-3-9. min date is 2016-1-10.\n"
     ]
    },
    {
     "name": "stderr",
     "output_type": "stream",
     "text": [
      "/home/tako/anaconda3/envs/mingu/lib/python3.8/site-packages/ipykernel/ipkernel.py:283: DeprecationWarning: `should_run_async` will not call `transform_cell` automatically in the future. Please pass the result to `transformed_cell` argument and any exception that happen during thetransform in `preprocessing_exc_tuple` in IPython 7.17 and above.\n",
      "  and should_run_async(code)\n"
     ]
    }
   ],
   "source": [
    "max_date = kb_df['DATE'].max()\n",
    "min_date = kb_df['DATE'].min()\n",
    "\n",
    "print(f'max date is {max_date}. min date is {min_date}.')"
   ]
  },
  {
   "cell_type": "markdown",
   "id": "advanced-hawaiian",
   "metadata": {},
   "source": [
    "### Exploratory Data Analysis ###"
   ]
  },
  {
   "cell_type": "code",
   "execution_count": 8,
   "id": "proprietary-sunrise",
   "metadata": {},
   "outputs": [
    {
     "name": "stderr",
     "output_type": "stream",
     "text": [
      "/home/tako/anaconda3/envs/mingu/lib/python3.8/site-packages/ipykernel/ipkernel.py:283: DeprecationWarning: `should_run_async` will not call `transform_cell` automatically in the future. Please pass the result to `transformed_cell` argument and any exception that happen during thetransform in `preprocessing_exc_tuple` in IPython 7.17 and above.\n",
      "  and should_run_async(code)\n"
     ]
    }
   ],
   "source": [
    "ratings = kb_df['STAR'].value_counts().sort_index()\n",
    "rating_df = pd.DataFrame(ratings)\n",
    "rating_df['RATING'] = rating_df['STAR'] / rating_df['STAR'].sum()"
   ]
  },
  {
   "cell_type": "code",
   "execution_count": 9,
   "id": "quality-declaration",
   "metadata": {},
   "outputs": [
    {
     "name": "stderr",
     "output_type": "stream",
     "text": [
      "/home/tako/anaconda3/envs/mingu/lib/python3.8/site-packages/ipykernel/ipkernel.py:283: DeprecationWarning: `should_run_async` will not call `transform_cell` automatically in the future. Please pass the result to `transformed_cell` argument and any exception that happen during thetransform in `preprocessing_exc_tuple` in IPython 7.17 and above.\n",
      "  and should_run_async(code)\n"
     ]
    },
    {
     "data": {
      "text/html": [
       "<div>\n",
       "<style scoped>\n",
       "    .dataframe tbody tr th:only-of-type {\n",
       "        vertical-align: middle;\n",
       "    }\n",
       "\n",
       "    .dataframe tbody tr th {\n",
       "        vertical-align: top;\n",
       "    }\n",
       "\n",
       "    .dataframe thead th {\n",
       "        text-align: right;\n",
       "    }\n",
       "</style>\n",
       "<table border=\"1\" class=\"dataframe\">\n",
       "  <thead>\n",
       "    <tr style=\"text-align: right;\">\n",
       "      <th></th>\n",
       "      <th>STAR</th>\n",
       "      <th>RATING</th>\n",
       "    </tr>\n",
       "  </thead>\n",
       "  <tbody>\n",
       "    <tr>\n",
       "      <th>1</th>\n",
       "      <td>3529</td>\n",
       "      <td>0.479484</td>\n",
       "    </tr>\n",
       "    <tr>\n",
       "      <th>2</th>\n",
       "      <td>427</td>\n",
       "      <td>0.058016</td>\n",
       "    </tr>\n",
       "    <tr>\n",
       "      <th>3</th>\n",
       "      <td>502</td>\n",
       "      <td>0.068207</td>\n",
       "    </tr>\n",
       "    <tr>\n",
       "      <th>4</th>\n",
       "      <td>705</td>\n",
       "      <td>0.095788</td>\n",
       "    </tr>\n",
       "    <tr>\n",
       "      <th>5</th>\n",
       "      <td>2197</td>\n",
       "      <td>0.298505</td>\n",
       "    </tr>\n",
       "  </tbody>\n",
       "</table>\n",
       "</div>"
      ],
      "text/plain": [
       "   STAR    RATING\n",
       "1  3529  0.479484\n",
       "2   427  0.058016\n",
       "3   502  0.068207\n",
       "4   705  0.095788\n",
       "5  2197  0.298505"
      ]
     },
     "execution_count": 9,
     "metadata": {},
     "output_type": "execute_result"
    }
   ],
   "source": [
    "rating_df.head()"
   ]
  },
  {
   "cell_type": "code",
   "execution_count": 10,
   "id": "surface-blade",
   "metadata": {},
   "outputs": [
    {
     "name": "stderr",
     "output_type": "stream",
     "text": [
      "/home/tako/anaconda3/envs/mingu/lib/python3.8/site-packages/ipykernel/ipkernel.py:283: DeprecationWarning: `should_run_async` will not call `transform_cell` automatically in the future. Please pass the result to `transformed_cell` argument and any exception that happen during thetransform in `preprocessing_exc_tuple` in IPython 7.17 and above.\n",
      "  and should_run_async(code)\n"
     ]
    },
    {
     "data": {
      "image/png": "[encoded data removed]",
      "text/plain": [
       "<Figure size 432x288 with 1 Axes>"
      ]
     },
     "metadata": {
      "needs_background": "light"
     },
     "output_type": "display_data"
    }
   ],
   "source": [
    "sns.barplot(x=rating_df.index, y=rating_df['RATING'])\n",
    "plt.title(\"별점 점수별 비율\", fontsize=20)\n",
    "plt.show()"
   ]
  },
  {
   "cell_type": "markdown",
   "id": "adolescent-comedy",
   "metadata": {},
   "source": [
    "### Natural Language Processing ###"
   ]
  },
  {
   "cell_type": "code",
   "execution_count": 11,
   "id": "developmental-providence",
   "metadata": {},
   "outputs": [
    {
     "name": "stderr",
     "output_type": "stream",
     "text": [
      "/home/tako/anaconda3/envs/mingu/lib/python3.8/site-packages/ipykernel/ipkernel.py:283: DeprecationWarning: `should_run_async` will not call `transform_cell` automatically in the future. Please pass the result to `transformed_cell` argument and any exception that happen during thetransform in `preprocessing_exc_tuple` in IPython 7.17 and above.\n",
      "  and should_run_async(code)\n"
     ]
    }
   ],
   "source": [
    "def extract_noun(word_object_list):\n",
    "    extracted_word_noun_list = []\n",
    "    \n",
    "    for i, word_object in enumerate(word_object_list):\n",
    "        word_object_morphs = word_object.morphs\n",
    "        \n",
    "        for word in word_object_morphs:\n",
    "            if word.tag in ['NNG', 'NNP']:\n",
    "                extracted_word_noun_list.append(word.lex)\n",
    "    \n",
    "    return extracted_word_noun_list\n",
    "\n",
    "\n",
    "def execute_khaiii(user_comment_list):\n",
    "    sentence_analyze_components = []\n",
    "    kha_api = KhaiiiApi()\n",
    "    \n",
    "    for i, user_comment in enumerate(user_comment_list):\n",
    "        word_object_list = []\n",
    "        user_comment_analyze_objects = kha_api.analyze(user_comment)\n",
    "        \n",
    "        for user_comment_analyze_object in user_comment_analyze_objects:\n",
    "            word_object_list.append(user_comment_analyze_object)\n",
    "            \n",
    "        extracted_noun_list = extract_noun(word_object_list)  \n",
    "        sentence_analyze_components.append(extracted_noun_list)\n",
    "    \n",
    "    return sentence_analyze_components"
   ]
  },
  {
   "cell_type": "code",
   "execution_count": 12,
   "id": "wanted-correspondence",
   "metadata": {},
   "outputs": [
    {
     "name": "stderr",
     "output_type": "stream",
     "text": [
      "/home/tako/anaconda3/envs/mingu/lib/python3.8/site-packages/ipykernel/ipkernel.py:283: DeprecationWarning: `should_run_async` will not call `transform_cell` automatically in the future. Please pass the result to `transformed_cell` argument and any exception that happen during thetransform in `preprocessing_exc_tuple` in IPython 7.17 and above.\n",
      "  and should_run_async(code)\n"
     ]
    }
   ],
   "source": [
    "review_list = kb_df['REVIEW'].tolist()\n",
    "all_comment_noun_list = execute_khaiii(review_list)"
   ]
  },
  {
   "cell_type": "code",
   "execution_count": 13,
   "id": "united-drama",
   "metadata": {},
   "outputs": [
    {
     "name": "stderr",
     "output_type": "stream",
     "text": [
      "/home/tako/anaconda3/envs/mingu/lib/python3.8/site-packages/ipykernel/ipkernel.py:283: DeprecationWarning: `should_run_async` will not call `transform_cell` automatically in the future. Please pass the result to `transformed_cell` argument and any exception that happen during thetransform in `preprocessing_exc_tuple` in IPython 7.17 and above.\n",
      "  and should_run_async(code)\n"
     ]
    },
    {
     "data": {
      "text/plain": [
       "['진짜',\n",
       " '리뷰',\n",
       " '지금',\n",
       " '처음',\n",
       " '쓰레기',\n",
       " '증권',\n",
       " '존재',\n",
       " '어처구니',\n",
       " '일반',\n",
       " '어플',\n",
       " '돈',\n",
       " '돈',\n",
       " '거래',\n",
       " '플',\n",
       " '구',\n",
       " '허접',\n",
       " '구',\n",
       " '운영',\n",
       " '이',\n",
       " '구',\n",
       " '관리',\n",
       " '당장']"
      ]
     },
     "execution_count": 13,
     "metadata": {},
     "output_type": "execute_result"
    }
   ],
   "source": [
    "all_comment_noun_list[0]"
   ]
  },
  {
   "cell_type": "code",
   "execution_count": 14,
   "id": "entire-latest",
   "metadata": {},
   "outputs": [
    {
     "name": "stderr",
     "output_type": "stream",
     "text": [
      "/home/tako/anaconda3/envs/mingu/lib/python3.8/site-packages/ipykernel/ipkernel.py:283: DeprecationWarning: `should_run_async` will not call `transform_cell` automatically in the future. Please pass the result to `transformed_cell` argument and any exception that happen during thetransform in `preprocessing_exc_tuple` in IPython 7.17 and above.\n",
      "  and should_run_async(code)\n"
     ]
    },
    {
     "data": {
      "text/plain": [
       "'진짜 리뷰 지금까지 살면서 처음 써보는데 이따위 쓰레기 증권앱이 존재한다는게 참 어처구니 없음. 그냥 일반 어플도 아니고 돈으로 돈을 거래하는 어플인데 이따구로 허접하나;; 이따구로 운영하고 이따구로 관리할거면 그냥 하지마세요 제발. 당장 지웁니다'"
      ]
     },
     "execution_count": 14,
     "metadata": {},
     "output_type": "execute_result"
    }
   ],
   "source": [
    "kb_df['REVIEW'][0]"
   ]
  },
  {
   "cell_type": "code",
   "execution_count": 15,
   "id": "behavioral-midwest",
   "metadata": {},
   "outputs": [
    {
     "name": "stderr",
     "output_type": "stream",
     "text": [
      "/home/tako/anaconda3/envs/mingu/lib/python3.8/site-packages/ipykernel/ipkernel.py:283: DeprecationWarning: `should_run_async` will not call `transform_cell` automatically in the future. Please pass the result to `transformed_cell` argument and any exception that happen during thetransform in `preprocessing_exc_tuple` in IPython 7.17 and above.\n",
      "  and should_run_async(code)\n"
     ]
    }
   ],
   "source": [
    "def delete_stopwords(word):\n",
    "    regex = '[ㄱ-ㅎㅏ-ㅣ]+'\n",
    "    changed_word = re.sub(pattern=regex, repl='None', string=word)\n",
    "    \n",
    "    return changed_word\n",
    "\n",
    "def get_dataframe_from_noun_list(extracted_user_comment_noun_list):\n",
    "    word_count_dict = {}\n",
    "    \n",
    "    for i, word_list in enumerate(extracted_user_comment_noun_list):\n",
    "        for word in word_list:\n",
    "            if word not in word_count_dict:\n",
    "                word_count_dict[word] = 1\n",
    "            else:\n",
    "                word_count_dict[word] += 1\n",
    "                \n",
    "    word_count_df = pd.DataFrame.from_dict(word_count_dict, orient='index') \\\n",
    "                                .reset_index() \\\n",
    "                                .rename(columns = {'index': 'word', 0 : 'count'}) \\\n",
    "                                .sort_values(by='count', ascending=False) \\\n",
    "                                .reset_index(drop=True)\n",
    "    word_count_df['word'] = word_count_df['word'].apply(delete_stopwords)\n",
    "    word_count_df_new = word_count_df[word_count_df['word']!='None']\n",
    "    \n",
    "    return word_count_df_new\n",
    "\n",
    "def draw_graph(word_count_df_new):\n",
    "    plt.figure(figsize = (15, 5))\n",
    "    sns.barplot(x = 'word', y = 'count', data=word_count_df_new[0:15])\n",
    "    plt.title('high frequency Top 15 words', fontsize = 15)\n",
    "    plt.xticks(fontsize = 15)\n",
    "    plt.show()"
   ]
  },
  {
   "cell_type": "code",
   "execution_count": 16,
   "id": "tender-jacksonville",
   "metadata": {},
   "outputs": [
    {
     "name": "stderr",
     "output_type": "stream",
     "text": [
      "/home/tako/anaconda3/envs/mingu/lib/python3.8/site-packages/ipykernel/ipkernel.py:283: DeprecationWarning: `should_run_async` will not call `transform_cell` automatically in the future. Please pass the result to `transformed_cell` argument and any exception that happen during thetransform in `preprocessing_exc_tuple` in IPython 7.17 and above.\n",
      "  and should_run_async(code)\n"
     ]
    },
    {
     "data": {
      "image/png": "[encoded data removed]",
      "text/plain": [
       "<Figure size 1080x360 with 1 Axes>"
      ]
     },
     "metadata": {
      "needs_background": "light"
     },
     "output_type": "display_data"
    }
   ],
   "source": [
    "all_comment_word_count_df = get_dataframe_from_noun_list(all_comment_noun_list)\n",
    "draw_graph(all_comment_word_count_df)"
   ]
  },
  {
   "cell_type": "code",
   "execution_count": 17,
   "id": "nearby-boston",
   "metadata": {},
   "outputs": [
    {
     "name": "stdout",
     "output_type": "stream",
     "text": [
      "[[(0, 1), (1, 1), (2, 3), (3, 1), (4, 2), (5, 1), (6, 1), (7, 1), (8, 1), (9, 1), (10, 1), (11, 1), (12, 1), (13, 1), (14, 1), (15, 1), (16, 1), (17, 1), (18, 1)]]\n"
     ]
    },
    {
     "name": "stderr",
     "output_type": "stream",
     "text": [
      "/home/tako/anaconda3/envs/mingu/lib/python3.8/site-packages/ipykernel/ipkernel.py:283: DeprecationWarning: `should_run_async` will not call `transform_cell` automatically in the future. Please pass the result to `transformed_cell` argument and any exception that happen during thetransform in `preprocessing_exc_tuple` in IPython 7.17 and above.\n",
      "  and should_run_async(code)\n"
     ]
    }
   ],
   "source": [
    "id2word = corpora.Dictionary(all_comment_noun_list)\n",
    "\n",
    "texts = all_comment_noun_list\n",
    "\n",
    "corpus = [id2word.doc2bow(text) for text in texts]\n",
    "\n",
    "print(corpus[:1])"
   ]
  },
  {
   "cell_type": "code",
   "execution_count": 18,
   "id": "needed-intranet",
   "metadata": {},
   "outputs": [
    {
     "name": "stderr",
     "output_type": "stream",
     "text": [
      "/home/tako/anaconda3/envs/mingu/lib/python3.8/site-packages/ipykernel/ipkernel.py:283: DeprecationWarning: `should_run_async` will not call `transform_cell` automatically in the future. Please pass the result to `transformed_cell` argument and any exception that happen during thetransform in `preprocessing_exc_tuple` in IPython 7.17 and above.\n",
      "  and should_run_async(code)\n"
     ]
    },
    {
     "data": {
      "text/plain": [
       "['진짜',\n",
       " '리뷰',\n",
       " '지금',\n",
       " '처음',\n",
       " '쓰레기',\n",
       " '증권',\n",
       " '존재',\n",
       " '어처구니',\n",
       " '일반',\n",
       " '어플',\n",
       " '돈',\n",
       " '돈',\n",
       " '거래',\n",
       " '플',\n",
       " '구',\n",
       " '허접',\n",
       " '구',\n",
       " '운영',\n",
       " '이',\n",
       " '구',\n",
       " '관리',\n",
       " '당장']"
      ]
     },
     "execution_count": 18,
     "metadata": {},
     "output_type": "execute_result"
    }
   ],
   "source": [
    "all_comment_noun_list[0]"
   ]
  },
  {
   "cell_type": "code",
   "execution_count": 19,
   "id": "driving-candidate",
   "metadata": {},
   "outputs": [
    {
     "name": "stderr",
     "output_type": "stream",
     "text": [
      "/home/tako/anaconda3/envs/mingu/lib/python3.8/site-packages/ipykernel/ipkernel.py:283: DeprecationWarning: `should_run_async` will not call `transform_cell` automatically in the future. Please pass the result to `transformed_cell` argument and any exception that happen during thetransform in `preprocessing_exc_tuple` in IPython 7.17 and above.\n",
      "  and should_run_async(code)\n"
     ]
    },
    {
     "data": {
      "text/plain": [
       "<gensim.corpora.dictionary.Dictionary at 0x7effbd324490>"
      ]
     },
     "execution_count": 19,
     "metadata": {},
     "output_type": "execute_result"
    }
   ],
   "source": [
    "id2word"
   ]
  },
  {
   "cell_type": "code",
   "execution_count": 20,
   "id": "respiratory-freeware",
   "metadata": {},
   "outputs": [
    {
     "name": "stderr",
     "output_type": "stream",
     "text": [
      "/home/tako/anaconda3/envs/mingu/lib/python3.8/site-packages/ipykernel/ipkernel.py:283: DeprecationWarning: `should_run_async` will not call `transform_cell` automatically in the future. Please pass the result to `transformed_cell` argument and any exception that happen during thetransform in `preprocessing_exc_tuple` in IPython 7.17 and above.\n",
      "  and should_run_async(code)\n"
     ]
    },
    {
     "name": "stdout",
     "output_type": "stream",
     "text": [
      "(0, '0.046*\"주식\" + 0.028*\"증권\" + 0.020*\"정보\" + 0.019*\"해외\" + 0.017*\"자산\"')\n",
      "(1, '0.037*\"업데이트\" + 0.031*\"계좌\" + 0.025*\"로그인\" + 0.021*\"접속\" + 0.019*\"앱\"')\n",
      "(2, '0.031*\"불편\" + 0.030*\"앱\" + 0.027*\"종목\" + 0.022*\"화면\" + 0.016*\"업데이트\"')\n",
      "(3, '0.038*\"사용\" + 0.017*\"최악\" + 0.017*\"거래\" + 0.016*\"앱\" + 0.012*\"접속\"')\n",
      "(4, '0.032*\"오류\" + 0.023*\"사용\" + 0.017*\"굿\" + 0.016*\"실행\" + 0.016*\"종료\"')\n"
     ]
    }
   ],
   "source": [
    "num_topics = 5\n",
    "ldamodel = LdaModel(corpus, num_topics, id2word, passes=15)\n",
    "topics = ldamodel.print_topics(num_words=5)\n",
    "for topic in topics:\n",
    "    print(topic)"
   ]
  },
  {
   "cell_type": "code",
   "execution_count": 21,
   "id": "catholic-projector",
   "metadata": {},
   "outputs": [
    {
     "name": "stderr",
     "output_type": "stream",
     "text": [
      "/home/tako/anaconda3/envs/mingu/lib/python3.8/site-packages/ipykernel/ipkernel.py:283: DeprecationWarning: `should_run_async` will not call `transform_cell` automatically in the future. Please pass the result to `transformed_cell` argument and any exception that happen during thetransform in `preprocessing_exc_tuple` in IPython 7.17 and above.\n",
      "  and should_run_async(code)\n"
     ]
    },
    {
     "name": "stdout",
     "output_type": "stream",
     "text": [
      "\n",
      "Coherence Score:  0.4255259795588936\n"
     ]
    }
   ],
   "source": [
    "coherence_model_lda = CoherenceModel(model=ldamodel, texts=texts, dictionary=id2word, coherence='c_v')\n",
    "coherence_lda = coherence_model_lda.get_coherence()\n",
    "print('\\nCoherence Score: ', coherence_lda)"
   ]
  },
  {
   "cell_type": "code",
   "execution_count": 41,
   "id": "surgical-clinton",
   "metadata": {},
   "outputs": [
    {
     "name": "stderr",
     "output_type": "stream",
     "text": [
      "/home/tako/anaconda3/envs/mingu/lib/python3.8/site-packages/ipykernel/ipkernel.py:283: DeprecationWarning: `should_run_async` will not call `transform_cell` automatically in the future. Please pass the result to `transformed_cell` argument and any exception that happen during thetransform in `preprocessing_exc_tuple` in IPython 7.17 and above.\n",
      "  and should_run_async(code)\n"
     ]
    }
   ],
   "source": [
    "mallet_path = 'mallet/mallet-2.0.8/bin/mallet'\n",
    "ldamallet = gensim.models.wrappers.LdaMallet(mallet_path, corpus=corpus, num_topics=5, id2word=id2word)"
   ]
  },
  {
   "cell_type": "code",
   "execution_count": 42,
   "id": "swedish-zambia",
   "metadata": {},
   "outputs": [
    {
     "name": "stdout",
     "output_type": "stream",
     "text": [
      "[(0, [('앱', 0.03623406604436415), ('번호', 0.021780588176252134), ('개선', 0.02077687443541102), ('문제', 0.01917093245006524), ('고객', 0.017163504968383016), ('입력', 0.016962762220214794), ('시간', 0.01656127672387835), ('최악', 0.016059419853457792), ('손해', 0.015657934357121348), ('리뷰', 0.014353106494027903)]), (1, [('주식', 0.0805701577031945), ('계좌', 0.05661140315406389), ('거래', 0.04852405984634048), ('증권', 0.04569348968863728), ('어플', 0.03770723817226041), ('때', 0.032652648604933276), ('해외', 0.027598059037606145), ('수수료', 0.02395875454913061), ('개설', 0.018904164981803476), ('가입', 0.017994338859684593)]), (2, [('업데이트', 0.0741703318672531), ('종목', 0.04048380647740903), ('로그인', 0.038884446221511396), ('확인', 0.027489004398240705), ('인증', 0.024190323870451818), ('후', 0.020191923230707717), ('관심', 0.020191923230707717), ('등록', 0.018892443022790882), ('로그', 0.017393042782886847), ('종료', 0.015893642542982808)]), (3, [('앱', 0.06333064840918244), ('오류', 0.04661699556987515), ('접속', 0.042086186065243655), ('증권사', 0.03282319774466371), ('진짜', 0.026379379782521143), ('돈', 0.02013693113169553), ('매도', 0.0180225533628675), ('매수', 0.01671365283930729), ('이', 0.015102698348771646), ('먹통', 0.015102698348771646)]), (4, [('사용', 0.06552538370720189), ('불편', 0.0448642266824085), ('화면', 0.0337465564738292), ('정보', 0.03168044077134986), ('기능', 0.03109012199921291), ('편리', 0.02243211334120425), ('이용', 0.01997245179063361), ('가능', 0.019382133018496655), ('투자', 0.01761117670208579), ('ㅎ', 0.01633215269578906)])]\n"
     ]
    },
    {
     "name": "stderr",
     "output_type": "stream",
     "text": [
      "/home/tako/anaconda3/envs/mingu/lib/python3.8/site-packages/ipykernel/ipkernel.py:283: DeprecationWarning: `should_run_async` will not call `transform_cell` automatically in the future. Please pass the result to `transformed_cell` argument and any exception that happen during thetransform in `preprocessing_exc_tuple` in IPython 7.17 and above.\n",
      "  and should_run_async(code)\n"
     ]
    },
    {
     "name": "stdout",
     "output_type": "stream",
     "text": [
      "\n",
      "Coherence Score:  0.38008420438274265\n"
     ]
    }
   ],
   "source": [
    "# Show Topics\n",
    "print(ldamallet.show_topics(formatted=False))\n",
    "\n",
    "# Compute Coherence Score\n",
    "coherence_model_ldamallet = CoherenceModel(model=ldamallet, texts=texts, dictionary=id2word, coherence='c_v')\n",
    "coherence_ldamallet = coherence_model_ldamallet.get_coherence()\n",
    "print('\\nCoherence Score: ', coherence_ldamallet)"
   ]
  },
  {
   "cell_type": "code",
   "execution_count": 70,
   "id": "facial-depth",
   "metadata": {},
   "outputs": [
    {
     "name": "stderr",
     "output_type": "stream",
     "text": [
      "/home/tako/anaconda3/envs/mingu/lib/python3.8/site-packages/ipykernel/ipkernel.py:283: DeprecationWarning: `should_run_async` will not call `transform_cell` automatically in the future. Please pass the result to `transformed_cell` argument and any exception that happen during thetransform in `preprocessing_exc_tuple` in IPython 7.17 and above.\n",
      "  and should_run_async(code)\n"
     ]
    }
   ],
   "source": [
    "def compute_coherence_score(dictionary, corpus, texts, start, limit, step):\n",
    "    coherence_values = []\n",
    "    model_list = []\n",
    "    for num_topics in range(start, limit, step):\n",
    "        model = gensim.models.wrappers.LdaMallet(mallet_path, corpus=corpus, num_topics=num_topics, id2word=id2word)\n",
    "        model_list.append(model)\n",
    "        print(\"topic num is {}\".format(num_topics))\n",
    "        \n",
    "        coherencemodel = CoherenceModel(model=model, texts=texts, dictionary=dictionary, coherence='c_v')\n",
    "        coherence_values.append(coherencemodel.get_coherence())\n",
    "        \n",
    "    return model_list, coherence_values"
   ]
  },
  {
   "cell_type": "code",
   "execution_count": 75,
   "id": "registered-partner",
   "metadata": {},
   "outputs": [
    {
     "name": "stderr",
     "output_type": "stream",
     "text": [
      "/home/tako/anaconda3/envs/mingu/lib/python3.8/site-packages/ipykernel/ipkernel.py:283: DeprecationWarning: `should_run_async` will not call `transform_cell` automatically in the future. Please pass the result to `transformed_cell` argument and any exception that happen during thetransform in `preprocessing_exc_tuple` in IPython 7.17 and above.\n",
      "  and should_run_async(code)\n"
     ]
    },
    {
     "name": "stdout",
     "output_type": "stream",
     "text": [
      "topic num is 2\n",
      "topic num is 5\n",
      "topic num is 8\n",
      "topic num is 11\n",
      "topic num is 14\n",
      "topic num is 17\n",
      "topic num is 20\n",
      "topic num is 23\n",
      "topic num is 26\n",
      "topic num is 29\n",
      "topic num is 32\n",
      "topic num is 35\n",
      "topic num is 38\n"
     ]
    }
   ],
   "source": [
    "model_list, coherence_values = compute_coherence_score(dictionary=id2word, corpus=corpus, texts=texts, start=2, limit=40, step=3)"
   ]
  },
  {
   "cell_type": "code",
   "execution_count": 76,
   "id": "spanish-deployment",
   "metadata": {},
   "outputs": [
    {
     "name": "stderr",
     "output_type": "stream",
     "text": [
      "/home/tako/anaconda3/envs/mingu/lib/python3.8/site-packages/ipykernel/ipkernel.py:283: DeprecationWarning: `should_run_async` will not call `transform_cell` automatically in the future. Please pass the result to `transformed_cell` argument and any exception that happen during thetransform in `preprocessing_exc_tuple` in IPython 7.17 and above.\n",
      "  and should_run_async(code)\n"
     ]
    },
    {
     "data": {
      "image/png": "[encoded data removed]",
      "text/plain": [
       "<Figure size 432x288 with 1 Axes>"
      ]
     },
     "metadata": {
      "needs_background": "light"
     },
     "output_type": "display_data"
    }
   ],
   "source": [
    "start=2; limit=40; step=3;\n",
    "x = range(start, limit, step)\n",
    "plt.plot(x, coherence_values)\n",
    "plt.xlabel(\"Num Topics\")\n",
    "plt.ylabel(\"Coherence Score\")\n",
    "plt.legend((\"coherence_values\"), loc='best')\n",
    "plt.show();"
   ]
  },
  {
   "cell_type": "code",
   "execution_count": 77,
   "id": "hundred-ratio",
   "metadata": {},
   "outputs": [
    {
     "name": "stdout",
     "output_type": "stream",
     "text": [
      "Number of Topics = 2  has Coherence Score of 0.3214\n",
      "Number of Topics = 5  has Coherence Score of 0.401\n",
      "Number of Topics = 8  has Coherence Score of 0.4163\n",
      "Number of Topics = 11  has Coherence Score of 0.4047\n",
      "Number of Topics = 14  has Coherence Score of 0.3835\n",
      "Number of Topics = 17  has Coherence Score of 0.3886\n",
      "Number of Topics = 20  has Coherence Score of 0.3919\n",
      "Number of Topics = 23  has Coherence Score of 0.3884\n",
      "Number of Topics = 26  has Coherence Score of 0.3881\n",
      "Number of Topics = 29  has Coherence Score of 0.3852\n",
      "Number of Topics = 32  has Coherence Score of 0.3958\n",
      "Number of Topics = 35  has Coherence Score of 0.3972\n",
      "Number of Topics = 38  has Coherence Score of 0.3952\n"
     ]
    },
    {
     "name": "stderr",
     "output_type": "stream",
     "text": [
      "/home/tako/anaconda3/envs/mingu/lib/python3.8/site-packages/ipykernel/ipkernel.py:283: DeprecationWarning: `should_run_async` will not call `transform_cell` automatically in the future. Please pass the result to `transformed_cell` argument and any exception that happen during thetransform in `preprocessing_exc_tuple` in IPython 7.17 and above.\n",
      "  and should_run_async(code)\n"
     ]
    }
   ],
   "source": [
    "for k, cv in zip(x, coherence_values):\n",
    "    print(\"Number of Topics =\", k, \" has Coherence Score of\", round(cv, 4))"
   ]
  },
  {
   "cell_type": "code",
   "execution_count": 79,
   "id": "copyrighted-declaration",
   "metadata": {},
   "outputs": [
    {
     "name": "stdout",
     "output_type": "stream",
     "text": [
      "[(0, '0.113*\"앱\" + 0.075*\"오류\" + 0.032*\"후\" + 0.029*\"문제\" + 0.025*\"종료\" + 0.024*\"실행\" + 0.020*\"확인\" + 0.020*\"수정\" + 0.019*\"설치\" + 0.017*\"해결\"'), (1, '0.129*\"주식\" + 0.078*\"거래\" + 0.053*\"때\" + 0.044*\"해외\" + 0.029*\"매도\" + 0.027*\"매수\" + 0.025*\"자산\" + 0.023*\"주문\" + 0.022*\"매매\" + 0.017*\"중요\"'), (2, '0.107*\"사용\" + 0.073*\"불편\" + 0.055*\"화면\" + 0.033*\"이용\" + 0.027*\"가능\" + 0.021*\"처음\" + 0.020*\"관리\" + 0.017*\"디자인\" + 0.016*\"표시\" + 0.016*\"검색\"'), (3, '0.124*\"업데이트\" + 0.052*\"기능\" + 0.043*\"증권\" + 0.038*\"편리\" + 0.031*\"개선\" + 0.022*\"메뉴\" + 0.021*\"설정\" + 0.018*\"굿\" + 0.018*\"필요\" + 0.015*\"이번\"'), (4, '0.060*\"어플\" + 0.052*\"증권사\" + 0.043*\"앱\" + 0.040*\"진짜\" + 0.026*\"최악\" + 0.024*\"플\" + 0.024*\"먹통\" + 0.020*\"사람\" + 0.018*\"짜증\" + 0.018*\"쓰레기\"'), (5, '0.085*\"계좌\" + 0.057*\"로그인\" + 0.037*\"인증\" + 0.033*\"번호\" + 0.029*\"등록\" + 0.028*\"개설\" + 0.027*\"가입\" + 0.026*\"로그\" + 0.026*\"입력\" + 0.020*\"인식\"'), (6, '0.067*\"종목\" + 0.053*\"정보\" + 0.039*\"수수료\" + 0.033*\"관심\" + 0.029*\"투자\" + 0.027*\"ㅎ\" + 0.024*\"확인\" + 0.022*\"마블\" + 0.022*\"차트\" + 0.018*\"수익\"'), (7, '0.066*\"접속\" + 0.031*\"돈\" + 0.031*\"증권\" + 0.028*\"시간\" + 0.027*\"고객\" + 0.025*\"손해\" + 0.024*\"이\" + 0.023*\"리뷰\" + 0.022*\"오늘\" + 0.017*\"전화\"')]\n"
     ]
    },
    {
     "name": "stderr",
     "output_type": "stream",
     "text": [
      "/home/tako/anaconda3/envs/mingu/lib/python3.8/site-packages/ipykernel/ipkernel.py:283: DeprecationWarning: `should_run_async` will not call `transform_cell` automatically in the future. Please pass the result to `transformed_cell` argument and any exception that happen during thetransform in `preprocessing_exc_tuple` in IPython 7.17 and above.\n",
      "  and should_run_async(code)\n"
     ]
    }
   ],
   "source": [
    "optimal_model = model_list[2]\n",
    "model_topics = optimal_model.show_topics(formatted=False)\n",
    "print(optimal_model.print_topics(num_words=10))"
   ]
  },
  {
   "cell_type": "code",
   "execution_count": 81,
   "id": "practical-colors",
   "metadata": {},
   "outputs": [
    {
     "name": "stderr",
     "output_type": "stream",
     "text": [
      "/home/tako/anaconda3/envs/mingu/lib/python3.8/site-packages/ipykernel/ipkernel.py:283: DeprecationWarning: `should_run_async` will not call `transform_cell` automatically in the future. Please pass the result to `transformed_cell` argument and any exception that happen during thetransform in `preprocessing_exc_tuple` in IPython 7.17 and above.\n",
      "  and should_run_async(code)\n",
      "/home/tako/anaconda3/envs/mingu/lib/python3.8/site-packages/pyLDAvis/_prepare.py:223: RuntimeWarning: divide by zero encountered in log\n",
      "  kernel = (topic_given_term * np.log((topic_given_term.T / topic_proportion).T))\n",
      "/home/tako/anaconda3/envs/mingu/lib/python3.8/site-packages/pyLDAvis/_prepare.py:240: RuntimeWarning: divide by zero encountered in log\n",
      "  log_lift = np.log(topic_term_dists / term_proportion)\n",
      "/home/tako/anaconda3/envs/mingu/lib/python3.8/site-packages/pyLDAvis/_prepare.py:241: RuntimeWarning: divide by zero encountered in log\n",
      "  log_ttd = np.log(topic_term_dists)\n"
     ]
    },
    {
     "data": {
      "text/html": [
       "\n",
       "<link rel=\"stylesheet\" type=\"text/css\" href=\"https://cdn.rawgit.com/bmabey/pyLDAvis/files/ldavis.v1.0.0.css\">\n",
       "\n",
       "\n",
       "<div id=\"ldavis_el51811396366676275524237842371\"></div>\n",
       "<script type=\"text/javascript\">\n",
       "\n",
       "var ldavis_el51811396366676275524237842371_data = {\"mdsDat\": {\"x\": [0.14816905141374337, 0.08113006231900483, -0.2935338551751634, 0.1300526707229661, 0.20308359027623435, -0.28035669257763846, -0.031056898137263842, 0.042512071158116664], \"y\": [0.13788652878795313, -0.24026440427768986, 0.05794218531617604, 0.17232400454277286, 0.15528521016652538, 0.09559407629862066, -0.06831279875715136, -0.31045480207720716], \"topics\": [1, 2, 3, 4, 5, 6, 7, 8], \"cluster\": [1, 1, 1, 1, 1, 1, 1, 1], \"Freq\": [12.814224092834744, 12.772248029020664, 12.585832018991969, 12.556767108713665, 12.479866942614873, 12.36334257861014, 12.226134293804792, 12.201584935409153]}, \"tinfo\": {\"Term\": [\"\\uc8fc\\uc2dd\", \"\\uc5c5\\ub370\\uc774\\ud2b8\", \"\\uc571\", \"\\uc0ac\\uc6a9\", \"\\uacc4\\uc88c\", \"\\uac70\\ub798\", \"\\uc624\\ub958\", \"\\ubd88\\ud3b8\", \"\\uc811\\uc18d\", \"\\uc885\\ubaa9\", \"\\uc5b4\\ud50c\", \"\\ud654\\uba74\", \"\\ub85c\\uadf8\\uc778\", \"\\ub54c\", \"\\uc99d\\uad8c\\uc0ac\", \"\\uc815\\ubcf4\", \"\\uae30\\ub2a5\", \"\\uc99d\\uad8c\", \"\\ud574\\uc678\", \"\\uc218\\uc218\\ub8cc\", \"\\uc9c4\\uc9dc\", \"\\ud3b8\\ub9ac\", \"\\uc778\\uc99d\", \"\\ubc88\\ud638\", \"\\uad00\\uc2ec\", \"\\uc774\\uc6a9\", \"\\ud6c4\", \"\\ub3c8\", \"\\ud655\\uc778\", \"\\ub4f1\\ub85d\", \"\\uacc4\\uc124\", \"\\uc2dc\\ub3c4\", \"\\ubc29\\ubb38\", \"\\ub2f9\\ud669\", \"\\uc774\\uc815\\ub3c4\", \"\\uc8fc\\ub9b0\\uc774\", \"\\uacf5\\ub3d9\\uc778\\uc99d\\uc11c\", \"\\ub4b7\\uc790\\ub9ac\", \"\\uc571\\uc774\", \"\\ud3c9\\uc0dd\", \"\\uae30\\ud68c\", \"\\uc804\\ud654\\ubc88\\ud638\", \"\\ubc88\\ud638\", \"\\uc0ac\\uc9c4\", \"\\u315c\", \"\\ube44\\ub300\", \"\\ubc29\\ubc95\", \"\\uc544\\uc774\\ub514\", \"\\ud1b5\\uacfc\", \"\\uc544\\uc624\", \"\\uacc4\\uc88c\", \"\\ud0c0\\uae30\\uad00\\uc778\", \"\\uc77c\\uce58\", \"\\ub514\", \"\\ubcf5\\uc0ac\", \"\\ub85c\\uadf8\", \"\\ud50c\\uc0ad\\uc81c\", \"\\ub9de\\ucda4\\uc0c1\\ub2f4\", \"\\uac70\\ub798\\uc190\", \"\\uc6d4\\uc694\\uc77c\\uc544\\uce68\", \"\\uc778\\uc99d\", \"\\ub4f1\\ub85d\", \"\\uac1c\\uc124\", \"\\uac00\\uc785\", \"\\uc785\\ub825\", \"\\uc778\\uc99d\\uc11c\", \"\\uacf5\\uc778\\uc778\\uc99d\\uc11c\", \"\\uc774\\uccb4\", \"\\ube44\\ubc00\", \"\\uc9c0\", \"\\uc2e0\\ubd84\\uc99d\", \"\\ube44\\ubc88\", \"\\ubc1c\\uae09\", \"\\ub428\\ucea1\", \"\\uc0ad\\uc81c\", \"\\uc778\\uc2dd\", \"\\ud578\\ub4dc\\ud3f0\", \"\\uc9c0\\ubb38\", \"\\uc9c4\\ud589\", \"\\ucd2c\\uc601\", \"\\uc774\\ubca4\\ud2b8\", \"\\ud734\\ub300\\ud3f0\", \"\\ubc88\", \"\\ub2e4\\uc74c\", \"\\uce74\\uce74\\uc624\\ud398\\uc774\", \"\\uce74\\ub4dc\", \"\\ub85c\\uadf8\\uc778\", \"\\ub799\\uca54\", \"\\uc21c\\uc815\\ud3f0\", \"\\uba74\\ud5c8\\uc778\\uc2dd\", \"\\ub9e4\\ub3c4\\uc138\", \"\\ud638\\uad6c\", \"\\uc0ac\\uacfc\\ud55c\\ub9c8\\ub514\", \"\\ud2c9\", \"\\uc0dd\\ud65c\", \"\\uc9c0\\ubb38\\uc778\\uc99d\\uc65c\", \"\\uc774\\uba58\\ud2b8\", \"\\uc5ed\\uacb9\\ub124\", \"\\uc678\\u314f\", \"\\ube44\\uc6a9\", \"\\uce90\\uc2dc\\uc0ad\", \"\\uba85\\uc0c9\", \"\\ub2f5\\uc77c\", \"\\uac8c\\uc2dc\\ud310\", \"\\uc2e4\\ub825\", \"\\uc0ac\\uc548\", \"\\uc5fc\", \"\\ub098\\ub77d\\uac00\", \"\\ubc14\\uc774\\ube14\", \"\\uc811\\uc218\", \"\\ud06c\\ubaa8\", \"\\ud734\\uc77c\", \"\\uc571\\uc791\\ub3d9\", \"\\uac24\\ub7ed\\uc2dc\\ud3f4\\ub4dc\", \"\\ub300\\ubb38\\uc791\\ub9cc\", \"\\uc0bd\\uc9c8\", \"\\uc5ec\\uc9c1\\uc6d0\\ubd84\", \"\\uc811\\uc18d\", \"\\uc2dc\\uac04\", \"\\uace0\\uac1d\", \"\\uc190\\ud574\", \"\\uc774\", \"\\ub9ac\\ubdf0\", \"\\ub3c8\", \"\\uc804\\ud654\", \"\\uc548\", \"\\ubcf4\\uc0c1\", \"\\uc77c\", \"\\uc774\\uc0c1\", \"\\uc13c\\ud130\", \"\\uc5f0\\uacb0\", \"\\ub124\", \"\\uc99d\\uad8c\\uc571\", \"\\ud68c\\uc0ac\", \"\\ud558\", \"\\ub370\\uc774\\ud130\", \"\\uc5d0\\ub7ec\", \"\\ub300\\uc751\", \"\\uae30\\uc5c5\", \"\\ucc45\\uc784\", \"\\ub300\", \"\\uc7a5\\uc560\", \"\\uae00\", \"\\uc9c4\\uc2ec\", \"\\uad6c\", \"\\ubc84\", \"\\ub2e4\\uc6b4\\ub85c\\ub4dc\", \"\\uc190\\uc2e4\", \"\\uc624\\ub298\", \"\\ud574\", \"\\ubb38\\uc790\", \"\\uc804\\uccb4\", \"\\uc99d\\uad8c\", \"\\ub9d0\", \"\\uc0c1\\ud669\", \"\\uc778\\ud654\\uba74\", \"\\ubc30\\ud130\\ub9ac\\ub791\", \"\\uacf5\\uac04\", \"\\uc791\", \"\\uacc4\\uc8c4\", \"\\ub178\\ub791\", \"\\ud2f0\\uc708\", \"\\uc218\\ucd08\", \"\\uacc4\\uc18d\", \"\\ub2e8\\uc21c\\ube44\\ubc00\\ubc88\\ud638\", \"\\uc7ac\\uc124\\uce58\", \"\\ubd80\\ubd80\", \"\\uc218\\uac00\", \"\\uad8c\\ud55c\\uc124\\uc815\", \"\\ucc0c\\ub77c\", \"\\uce74\\uc624\\uac8c\\uc784\\uc988\", \"\\ubaa8\", \"\\ubd88\\uac00\\uc784\", \"\\uc601\\ud5a5\", \"\\ub2ec\\uc804\", \"\\ub9bc\\ucc28\\uc21c\", \"\\ubd89\\uc740\\uc0c9\", \"\\uccad\\uc0c9\", \"\\ubbfc\\uc911\\u315c\", \"\\ud604\\uc0c1\", \"\\uc5c5\\ub370\\uc774\\ud2b8\\uc774\\ud6c4\", \"\\ubb34\\ud55c\\ub85c\\ub529\", \"\\ub18d\\ud611\", \"\\ub178\\ud2b8\", \"\\ub2e4\\uc74c\\ub0a0\", \"\\uc624\\ub958\", \"\\ud6c4\", \"\\uc885\\ub8cc\", \"\\uc124\\uce58\", \"\\ud574\\uacb0\", \"\\ub124\\ud2b8\\uc6cc\\ud06c\", \"\\uc0ac\\uc6a9\\uc790\", \"\\uc2e4\\ud589\", \"\\uc120\\ud0dd\", \"\\ub4dc\", \"\\uc2dc\", \"\\uc790\\uccb4\", \"\\uc2e4\\ud328\", \"\\ud504\\ub85c\\uadf8\\ub7a8\", \"\\ub85c\", \"\\uc218\\uc815\", \"\\uac15\\uc81c\", \"\\uc870\\uce58\", \"\\ub2f5\\ubcc0\", \"\\uc815\\uc0c1\", \"\\uc778\\ud130\\ub137\", \"\\ubc1c\\ud589\", \"\\uc5b4\\uc74c\", \"\\uba54\\uc138\\uc9c0\", \"\\uc544\\ubb34\\uac83\", \"\\ud130\\uce58\", \"\\uac80\\uc99d\", \"\\uc8fc\\uc18c\", \"\\ubb38\\uc81c\", \"\\ubc1c\\uc0dd\", \"\\ubd80\\ud0c1\", \"\\uc0c1\\ud0dc\", \"\\uc571\", \"\\ubc18\\ubcf5\", \"\\uac1c\\uc778\", \"\\ud655\\uc778\", \"\\uc2dc\\uc2a4\\ud15c\", \"\\uc774\\uc720\", \"\\uc784\", \"\\uc2e0\\uc815\\ubcf4\", \"\\ub2e4\\ud06c\", \"\\uc9c4\\ub3d9\", \"\\ud765\\ubbf8\", \"\\uc824\", \"\\ubcc4\\ud45c\", \"\\uae30\\ubd88\\ud3b8\", \"\\uc548\\ub0a8\\uc544\", \"\\uc2e4\\uc218\", \"\\uac15\\uc810\", \"\\uc778\\uae30\", \"\\uc804\\ud658\\ucc28\", \"\\uc2dc\\uac04\\ud655\\uc778\\uc790\\uccb4\", \"\\ud83d\\ude4f\", \"\\ucffc\\ub9ac\\ubb38\", \"\\ucf54\\ubbf8\\ub514\", \"\\uc774\\uc2dc\", \"\\uc778\\uc870\\ucc28\\uc548\", \"\\uace0\\uc9c0\\ubc29\\ubc95\", \"\\uc885\\uc77c\\ub728\", \"\\uc54c\\uc218\", \"\\ub738\\ub2c8\", \"\\uae30\\ub2a5\\ub108\", \"\\ucc3d\\uc2e4\", \"\\uc774\\u3163\\ub530\\uad6c\", \"\\uc694\\uc9c0\", \"\\ucd94\\ucc9c\\uc8fc\\ub791\", \"\\uc624\\ub958\\ub0a9\", \"\\uc2e0\\uc758\", \"\\uc7ac\\ub2e8\\uac00\", \"\\uc8fc\\uc2dd\", \"\\uac70\\ub798\", \"\\ub54c\", \"\\ud574\\uc678\", \"\\ub9e4\\ub3c4\", \"\\ub9e4\\uc218\", \"\\uc790\\uc0b0\", \"\\uc8fc\\ubb38\", \"\\ub9e4\\ub9e4\", \"\\uc911\\uc694\", \"\\uc870\\ud68c\", \"\\ub0b4\\uc5ed\", \"\\ud3c9\\uac00\", \"\\uc2e4\\uc2dc\\uac04\", \"\\uc794\\uace0\", \"\\uccb4\\uacb0\", \"\\ubbf8\\uad6d\", \"\\ub9e4\", \"\\uc218\", \"\\uad6d\\ub0b4\", \"\\ud0c0\\uc774\\ubc0d\", \"\\ud658\\uc804\", \"\\uc608\\uc57d\", \"\\uc21c\\uac04\", \"\\ud0c0\\uc0ac\", \"\\uae30\\uac04\", \"\\uc190\\uc775\", \"\\uc635\\uc158\", \"\\ubc18\\uc601\", \"\\ub0a0\", \"\\ud604\\uc7ac\", \"\\uae08\\uc561\", \"\\ubaa8\\ubc14\\uc77c\", \"\\ub2e4\", \"\\uad00\\ub9ac\", \"\\uae00\\uce58\", \"\\uae40\\ub2c8\", \"\\uc57c\\uadfc\", \"\\uc571\\ub9cc\", \"\\ub204\\ub77d\", \"\\ud1b5\\ud654\\uc548\", \"\\uc804\\uc6a9\", \"\\uc911\\uad6c\\ub09c\\ubc29\", \"\\uc5f0\\ucc28\\ud2b8\", \"\\ubcf4\\uae30\\ud3b8\", \"\\uc544\\ubc84\", \"\\ud1b5\\ubcf4\", \"\\ubc88\\ud638\\ucc28\", \"\\ub4f1\\ub77d\", \"\\uc778\\uc99d\\uc808\\ucc28\", \"\\uac04\\ud3b8\\uc778\\uc99d\\uc744\", \"\\ud55c\\uc918\", \"\\uc6b0\\uce21\", \"\\uace0\\uac00\", \"\\ud3f4\", \"\\ud558\\ub124\\uc694\", \"\\uc6a9\\ub3c8\", \"\\ubc8c\", \"\\uad6d\\uc778\\ub9c8\\ube14\", \"\\ubc1c\\uacac\", \"\\uc790\\uc2e0\", \"\\uc9c0\\uc6d0\\uc548\\ub428\", \"\\ub9ac\\ubdf0\\uac70\\uc758\", \"\\ub204\\ub984\", \"\\uc571\\uc774\\ub098\", \"\\uc0ac\\uc6a9\", \"\\ubd88\\ud3b8\", \"\\ud654\\uba74\", \"\\uc774\\uc6a9\", \"\\ub514\\uc790\\uc778\", \"\\ud45c\\uc2dc\", \"\\uac80\\uc0c9\", \"\\ubcc0\\uacbd\", \"\\uc774\\ub3d9\", \"\\ub2e4\\uc591\", \"\\uc694\", \"\\ud55c\", \"\\uacbd\\uc6b0\", \"\\uc608\\uc804\", \"\\uc810\", \"\\uc2ec\\ud50c\", \"\\uac00\", \"\\uc774\\uc804\", \"\\ucf58\\ud150\\uce20\", \"\\uae30\\ubcf8\", \"\\ub4a4\", \"\\uac24\\ub7ed\\uc2dc\", \"\\ub0b4\\uc6a9\", \"\\ud638\", \"\\ub3c4\", \"\\ubc84\\uc804\", \"\\ud074\\ub9ad\", \"\\ube44\\uad50\", \"\\ud638\\uac00\\ucc3d\", \"\\uc790\\ub3d9\", \"\\uc815\\ub3c4\", \"\\ucc3d\", \"\\uac00\\ub2a5\", \"\\ucc98\\uc74c\", \"\\uad00\\ub9ac\", \"\\u3160\", \"\\uc804\", \"\\ub208\", \"\\uc815\\uc218\", \"\\uae30\\uc7ac\", \"\\uc5f0\\uacb0\\uc744\\ubabb\", \"\\uccb4\\uac10\", \"\\uace0\\uc218\\uc758\", \"\\ub3c4\\uc11c\\uad00\", \"\\uc811\\uc18d\\ubd88\", \"\\uc758\", \"\\ubcf4\\uc720\\uc8fc\\uc2dd\", \"\\uc9f1\\ub098\\ub124\", \"\\uc5c5\\ub370\\uc774\\ud130\", \"\\ud558\\uccad\", \"\\uc7a5\\ubd80\\ud130\", \"\\ud3f0\\ud0d3\\uc544\\ub2d8\", \"\\ub290\\ub9b0\\uc18d\", \"\\uc804\\uc6d0\\ub2e4\", \"\\ud574\\uacb0\\ucc45\\uc774\", \"\\uad6c\\ud604\", \"\\uc9dc\\uc99d\\ub098\\uc694\", \"\\ubc18\\ucabd\\ud06c\\uae30\", \"\\uce58\\ub098\", \"\\uc544\\ub0a0\\ub85c\\uadf8\\uc2dc\\ub300\", \"\\ub8f9\", \"\\uc801\\ub2f9\", \"\\uc120\\ubd88\\ud3f0\\uc544\\ub2c8\", \"\\uc9c0\\ub3c4\", \"\\ud0dc\\ube14\\ub9bf\\ucd08\\uae30\\ud654\", \"\\ud655\\uc2e0\", \"\\ucc28\\ubcc4\\uc810\", \"\\uad50\\uccb4\", \"\\uc5b4\\ud50c\", \"\\uc99d\\uad8c\\uc0ac\", \"\\ucd5c\\uc545\", \"\\ud50c\", \"\\uc0ac\\ub78c\", \"\\uc4f0\\ub808\\uae30\", \"\\ud3f0\", \"\\uc0dd\\uac01\", \"\\uc2dc\\uc791\", \"\\uc548\\uc815\", \"\\u314b\", \"\\u3161\", \"\\uc7a5\\ub09c\", \"\\uac70\", \"\\uc544\", \"\\ud558\\ub8e8\", \"\\uc9c4\", \"\\uc5c5\\ub383\", \"\\ubcc4\", \"\\uac1c\\ubc1c\\uc790\", \"\\uc544\\uce68\", \"\\uc18d\\ub3c4\", \"\\uc11c\\ubc84\", \"\\uac1c\", \"\\uba39\\ud1b5\", \"\\uc190\", \"\\uc811\\uc18d\\uc548\", \"\\uc9dc\", \"\\ud654\", \"\\uc791\\ub3d9\", \"\\uc7a5\", \"\\uc9c4\\uc9dc\", \"\\ub85c\\ub529\", \"\\uc9dc\\uc99d\", \"\\ub2e4\\uc6b4\", \"\\uc571\", \"\\ub809\", \"\\ud018\\uc2a4\\ud2b8\", \"\\ud130\\ub514\\uc911\", \"\\uc2dc\\ub3c4\\uc548\", \"\\ubcc4\\ubc18\\uac1c\", \"\\ud380\\ub4dc\\ubab0\", \"\\uc0c1\\uc7a5\\uc0ac\", \"\\ud0dc\\ubc18\", \"\\ub9cc\\uc810\", \"\\uc804\\uae30\\uc804\\uc790\", \"\\ubd81\\uc5d0\\uc0ac\", \"\\ud2b9\\uc9d5\\uc8fc\", \"\\u3161\\u3161\\uc790\\uc99d\", \"\\uc6a9\\uc5b4\", \"\\ud504\\ub77c\\uc784\", \"\\ucd94\\ucc9c\\uc548\\ud568\", \"\\uc7ac\\ud14c\\ud06c\", \"\\ucf24\\ub54c\", \"\\ud22c\\uc790\\uac00\\uc774\\ub4dc\", \"\\uc601\\uc0c1\", \"\\uacc4\\uc154\", \"\\uc758\\ub3c4\\uc678\", \"\\ucd94\\ucc9c\\uc8fc\", \"\\uc54c\\uace0\\ub9ac\\uc998\", \"\\uc120\\ud0dd\\uc8fc\", \"\\ucd94\\ucd9c\", \"\\ud604\\ub300\\uc2a4\\ub9c8\\ud2b8\", \"\\uc2dc\\uacf5\", \"\\uc544\\uc774\\ucf58\\ud558\", \"\\ubc29\\uc9c0\", \"\\uad6c\\uc870\", \"\\uc885\\ubaa9\", \"\\uc218\\uc218\\ub8cc\", \"\\uc815\\ubcf4\", \"\\uad00\\uc2ec\", \"\\ud22c\\uc790\", \"\\u314e\", \"\\ub9c8\\ube14\", \"\\uc218\\uc775\", \"\\ud380\\ub4dc\", \"\\ubb34\\ub8cc\", \"\\uac10\\uc0ac\", \"\\ucc28\\ud2b8\", \"\\ud504\\ub77c\\uc784\\ud074\\ub7fd\", \"\\ubcf4\", \"\\ucc38\\uace0\", \"\\uae30\\uc874\", \"\\uc54c\", \"\\ucd08\\ubcf4\", \"\\ubcf4\\uc720\", \"\\uc124\\uba85\", \"\\uc2dc\\uc138\", \"\\uae00\\uc528\", \"\\ucd5c\\uace0\", \"\\uc55e\", \"\\uc2e0\\uaddc\", \"\\uac70\\ub798\\ub7c9\", \"\\ub3c4\\uc6c0\", \"\\uae30\\ub300\", \"\\ud2b8\", \"\\ud604\\ud669\", \"\\ucd94\\ucc9c\", \"\\ucd08\\ubcf4\\uc790\", \"\\uc54c\\ub78c\", \"\\ud655\\uc778\", \"\\uc11c\\ube44\\uc2a4\", \"\\u314b\\u314b\", \"\\ub808\\uc774\\uc544\\uc6c3\", \"\\ud76c\\ub9dd\", \"\\ube60\", \"\\uac78\\uc74c\\ub354\", \"\\uc758\\ud3ed\\ud48d\", \"\\uadf8\\ub355\", \"\\uce6d\\ucc2c\", \"\\ud589\", \"\\ud68c\\ub2f4\", \"\\uc5c5\\ub370\\uc774\\ud2b8\\ubc84\", \"\\uc0c1\\uc138\\uc885\\ubaa9\", \"\\uc81c\\uc57d\", \"\\uc2dc\\ubbac\\ub808\\uc774\\uc158\", \"\\uc5b4\\uc758\", \"\\ub193\\ud798\", \"\\uace0\\uac1c\", \"\\ub9e4\\ub3c4\\uc8fc\\ubb38\", \"\\ud035\\uba54\\ub274\", \"\\ub9de\\ucda4\", \"\\uc7a0\\ubabb\", \"\\ubc1c\\uc804\\ubc14\", \"\\uacf5\\uae30\", \"\\uc8fc\\uc57c\", \"\\uc9c1\\uc120\", \"\\uc904\\uc218\", \"\\uc5ec\\ubc31\", \"\\uc2e4\\uc804\", \"\\ud0c0\\uc774\", \"\\uc804\\ud658\\uc2dc\", \"\\uc5f0\\uacb0\\uc2e4\\ud328\", \"\\uc5c5\\ub370\\uc774\\ud2b8\", \"\\ud3b8\\ub9ac\", \"\\uba54\\ub274\", \"\\uc124\\uc815\", \"\\uae30\\ub2a5\", \"\\ud544\\uc694\", \"\\uc774\\ud6c4\", \"\\uacf3\", \"\\uc740\\ud589\", \"\\ubd80\\ubd84\", \"\\ub9cc\\uc871\", \"\\ud55c\\ub208\", \"\\uae08\\uc735\", \"\\uad7f\", \"\\uba74\", \"\\ub9d8\", \"\\uc18d\", \"\\uc815\\ub9ac\", \"\\uc9c1\\uad00\", \"\\uc0c1\\ud488\", \"\\uace0\", \"\\ucd5c\\uadfc\", \"\\uad6d\\ubbfc\\uc740\\ud589\", \"\\uad6c\\uc131\", \"\\ub9ac\", \"\\uc774\\ubc88\", \"\\uc778\\ud130\\ud398\\uc774\\uc2a4\", \"\\ubc16\", \"\\ucd94\\uac00\", \"\\ubd80\\uc871\", \"\\uccb4\\ud06c\", \"\\uc778\", \"\\uc704\\uc82f\", \"\\ub290\\ub08c\", \"\\uac1c\\uc120\", \"\\uc694\\uc998\", \"\\uc99d\\uad8c\", \"\\uc644\\uc804\", \"\\u314b\\u314b\", \"\\uc720\\uc6a9\"], \"Freq\": [810.0, 755.0, 980.0, 669.0, 543.0, 487.0, 470.0, 457.0, 420.0, 406.0, 370.0, 344.0, 378.0, 335.0, 324.0, 323.0, 321.0, 459.0, 277.0, 238.0, 260.0, 232.0, 235.0, 210.0, 202.0, 203.0, 199.0, 201.0, 274.0, 185.0, 6.799121150322262, 33.99560575161131, 13.598242300644523, 6.799121150322262, 6.799121150322262, 13.598242300644523, 6.799121150322262, 6.799121150322262, 6.799121150322262, 13.598242300644523, 6.799121150322262, 6.799121150322262, 210.7727556599901, 33.99560575161131, 6.799121150322262, 13.598242300644523, 67.019908481748, 33.99560575161131, 6.799121150322262, 6.799121150322262, 543.9296920257809, 6.799121150322262, 13.598242300644523, 27.196484601289047, 6.799121150322262, 169.00672573658193, 0.9713030214746088, 1.9426060429492176, 0.9713030214746088, 0.9713030214746088, 235.05533119685532, 185.51887710165028, 181.63366501575186, 172.89193782248037, 165.12151365068348, 115.58505955547845, 111.69984746958, 104.90072631925774, 101.01551423335931, 79.64684776091792, 78.67554473944331, 76.7329386964941, 73.81902963207027, 71.87642358912105, 66.0486054602734, 126.26939279169915, 49.536454095205045, 49.536454095205045, 47.59384805225583, 45.65124200930661, 42.73733294488279, 38.85212085898436, 38.85212085898436, 36.909514816035134, 35.93821179456052, 35.93821179456052, 362.2960270100291, 1.0051807487111326, 1.0051807487111326, 1.0051807487111326, 1.0051807487111326, 6.031084492266796, 3.015542246133398, 1.0051807487111326, 3.015542246133398, 1.0051807487111326, 1.0051807487111326, 1.0051807487111326, 1.0051807487111326, 5.025903743555663, 1.0051807487111326, 1.0051807487111326, 1.0051807487111326, 3.015542246133398, 5.025903743555663, 1.0051807487111326, 1.0051807487111326, 1.0051807487111326, 1.0051807487111326, 8.04144598968906, 1.0051807487111326, 1.0051807487111326, 1.0051807487111326, 3.015542246133398, 1.0051807487111326, 1.0051807487111326, 1.0051807487111326, 420.1655529612534, 176.91181177315934, 171.88590802960368, 156.80819679893668, 150.7771123066699, 143.74084706569195, 200.0309689935154, 109.56470160951345, 107.5543401120912, 104.53879786595779, 89.4610866352908, 77.39891765075721, 71.36783315849041, 60.31084492266796, 58.300483425245694, 52.269398932978895, 51.26421818426777, 50.25903743555663, 50.25903743555663, 46.2383144407121, 41.212410697156436, 39.20204919973417, 39.20204919973417, 37.19168770231191, 37.19168770231191, 36.18650695360078, 35.18132620488964, 34.17614545617851, 34.17614545617851, 33.17096470746738, 71.36783315849041, 139.72012407084742, 53.274579681690035, 44.227952943289836, 81.41964064560175, 199.02578824480426, 72.37301390720155, 43.2227721945787, 0.9894186968321065, 2.9682560904963196, 3.957674787328426, 14.841280452481596, 2.9682560904963196, 0.9894186968321065, 1.978837393664213, 0.9894186968321065, 20.777792633474235, 0.9894186968321065, 15.830699149313704, 0.9894186968321065, 4.947093484160533, 0.9894186968321065, 0.9894186968321065, 0.9894186968321065, 16.82011784614581, 0.9894186968321065, 0.9894186968321065, 0.9894186968321065, 0.9894186968321065, 0.9894186968321065, 0.9894186968321065, 0.9894186968321065, 36.60849178278794, 10.883605665153171, 23.746048723970556, 1.978837393664213, 30.6719796017953, 2.9682560904963196, 470.9632996920827, 199.8625767600855, 157.31757279630494, 119.71966231668488, 105.8678005610354, 102.89954447053907, 85.09000792756116, 151.3810606153123, 80.14291444340063, 76.1852396560722, 74.20640226240799, 73.21698356557587, 66.29105268775113, 62.33337790042271, 58.37570311309429, 124.66675580084542, 53.42860962893375, 50.46035353843744, 49.47093484160533, 41.55558526694847, 37.59791047962005, 35.61907308595583, 34.62965438912373, 33.64023569229162, 32.650816995459515, 31.661398298627407, 31.661398298627407, 31.661398298627407, 183.0424589139397, 86.07942662439326, 104.87838186420329, 48.48151614477322, 712.3814617191167, 47.49209744794111, 37.59791047962005, 127.63501189134173, 45.5132600542769, 41.55558526694847, 38.58732917645215, 1.0164023460534832, 1.0164023460534832, 6.0984140763209, 1.0164023460534832, 30.492070381604496, 1.0164023460534832, 4.065609384213933, 1.0164023460534832, 15.246035190802248, 1.0164023460534832, 2.0328046921069665, 1.0164023460534832, 1.0164023460534832, 1.0164023460534832, 1.0164023460534832, 1.0164023460534832, 1.0164023460534832, 1.0164023460534832, 1.0164023460534832, 1.0164023460534832, 3.04920703816045, 1.0164023460534832, 1.0164023460534832, 1.0164023460534832, 1.0164023460534832, 1.0164023460534832, 1.0164023460534832, 1.0164023460534832, 1.0164023460534832, 1.0164023460534832, 810.0726698046262, 487.87312610567193, 335.41277419764947, 277.4778404726009, 181.9360199435735, 168.72278944487823, 154.49315660012945, 143.31273079354114, 140.2635237553807, 103.6730392974553, 91.47621114481349, 77.24657830006473, 73.1809689158508, 72.16456656979732, 65.04975014742293, 64.03334780136944, 63.01694545531597, 60.98414076320899, 58.95133607110203, 45.738105572406745, 44.72170322635326, 44.72170322635326, 44.72170322635326, 37.60688680397888, 36.5904844579254, 35.57408211187192, 35.57408211187192, 33.541277419764945, 28.45926568949753, 43.70530088029978, 51.83651964872765, 59.967738417155516, 68.09895718558339, 50.82011730267416, 40.656093842139335, 1.0041579523048485, 1.0041579523048485, 1.0041579523048485, 1.0041579523048485, 2.008315904609697, 1.0041579523048485, 5.0207897615242425, 3.0124738569145455, 1.0041579523048485, 7.0291056661339395, 1.0041579523048485, 1.0041579523048485, 1.0041579523048485, 31.128896521450308, 1.0041579523048485, 1.0041579523048485, 1.0041579523048485, 4.016631809219394, 2.008315904609697, 6.024947713829091, 1.0041579523048485, 1.0041579523048485, 1.0041579523048485, 1.0041579523048485, 5.0207897615242425, 4.016631809219394, 1.0041579523048485, 1.0041579523048485, 1.0041579523048485, 1.0041579523048485, 669.773354187334, 457.89602625101094, 344.4261776405631, 203.84406431788426, 108.44905884892364, 98.40747932587516, 97.40332137357031, 90.37421570743638, 76.31600437516849, 71.29521461364425, 68.2827407567297, 64.2661089475103, 55.22868737676667, 53.22037147215698, 52.216213519852126, 51.212055567547274, 49.20373966293758, 47.195423758327884, 44.18294990141334, 42.174633996803635, 41.17047604449879, 40.16631809219394, 39.162160139889096, 39.162160139889096, 37.1538442352794, 36.14968628297454, 34.14137037836485, 29.120580616840606, 29.120580616840606, 58.24116123368121, 51.212055567547274, 61.25363509059576, 170.70685189182424, 128.5322178950206, 125.51974403810607, 58.24116123368121, 88.36589980282668, 41.17047604449879, 0.9946219515052627, 0.9946219515052627, 0.9946219515052627, 0.9946219515052627, 0.9946219515052627, 0.9946219515052627, 0.9946219515052627, 1.9892439030105253, 0.9946219515052627, 2.9838658545157877, 2.9838658545157877, 6.962353660536839, 0.9946219515052627, 0.9946219515052627, 0.9946219515052627, 0.9946219515052627, 0.9946219515052627, 0.9946219515052627, 1.9892439030105253, 0.9946219515052627, 1.9892439030105253, 0.9946219515052627, 4.973109757526314, 0.9946219515052627, 0.9946219515052627, 0.9946219515052627, 0.9946219515052627, 0.9946219515052627, 0.9946219515052627, 2.9838658545157877, 370.99398791146297, 324.24675619071564, 159.13951224084204, 150.18791467729466, 126.31698784116837, 108.41379271407362, 107.41917076256837, 105.42992685955785, 96.47832929601049, 95.4837073445052, 86.53210978095785, 78.57513416891575, 78.57513416891575, 75.59126831439995, 74.5966463628947, 73.60202441138944, 73.60202441138944, 56.69345123579997, 55.69882928429471, 52.714963429778926, 49.73109757526313, 47.7418536722526, 45.752609769242085, 43.76336586623156, 147.20404882277887, 36.80101220569472, 35.80639025418946, 35.80639025418946, 33.81714635117893, 30.833280496663143, 73.60202441138944, 249.6501098278209, 82.5536219749368, 112.39228052009469, 55.69882928429471, 267.55330495491563, 53.709585381284185, 1.0044490103341193, 1.0044490103341193, 1.0044490103341193, 1.0044490103341193, 22.097878227350627, 9.040041093007073, 1.0044490103341193, 2.0088980206682385, 1.0044490103341193, 1.0044490103341193, 2.0088980206682385, 1.0044490103341193, 7.031143072338835, 18.080082186014145, 1.0044490103341193, 11.048939113675313, 1.0044490103341193, 7.031143072338835, 10.044490103341193, 1.0044490103341193, 1.0044490103341193, 34.15126635136006, 27.12012327902122, 7.031143072338835, 3.0133470310023585, 1.0044490103341193, 1.0044490103341193, 1.0044490103341193, 1.0044490103341193, 3.0133470310023585, 406.80184918531836, 238.0544154491863, 322.42813231725233, 202.89870008749213, 179.79637284980734, 166.73853571546383, 136.60506540544023, 109.484942126419, 107.47604410575076, 70.31143072338836, 70.31143072338836, 136.60506540544023, 63.28028765104952, 56.24914457871068, 53.23579754770833, 52.2313485373742, 51.22689952704008, 49.21800150637185, 44.195756454701254, 44.195756454701254, 44.195756454701254, 43.19130744436713, 41.18240942369889, 39.17351140303066, 38.16906239269653, 38.16906239269653, 35.15571536169418, 35.15571536169418, 34.15126635136006, 34.15126635136006, 81.36036983706366, 45.20020546503537, 44.195756454701254, 146.64955550878142, 49.21800150637185, 51.22689952704008, 1.01783099313423, 4.07132397253692, 9.160478938208069, 1.01783099313423, 1.01783099313423, 1.01783099313423, 4.07132397253692, 4.07132397253692, 5.089154965671149, 1.01783099313423, 1.01783099313423, 1.01783099313423, 10.178309931342298, 1.01783099313423, 1.01783099313423, 1.01783099313423, 3.05349297940269, 1.01783099313423, 4.07132397253692, 1.01783099313423, 1.01783099313423, 1.01783099313423, 1.01783099313423, 1.01783099313423, 2.03566198626846, 1.01783099313423, 6.10698595880538, 4.07132397253692, 2.03566198626846, 1.01783099313423, 755.2305969055985, 232.06546643460442, 136.38935307998682, 126.21104314864449, 318.58110085101396, 109.92574725849683, 82.44431044387262, 67.17684554685918, 63.105521574322246, 58.016366608651104, 56.99853561551687, 54.96287362924841, 45.80239469104035, 109.92574725849683, 42.74890171163765, 41.731070718503425, 40.71323972536919, 38.677577739100734, 36.641915752832276, 36.641915752832276, 34.60625376656382, 33.58842277342959, 33.58842277342959, 32.57059178029536, 32.57059178029536, 91.6047893820807, 27.481436814624207, 27.481436814624207, 84.47997243014107, 25.44577482835575, 62.08769058118802, 46.820225684174574, 46.820225684174574, 45.80239469104035, 189.31656472296677, 44.784563697906115, 260.5647342423629, 46.820225684174574, 61.06985958805379, 37.65974674596651], \"Total\": [810.0, 755.0, 980.0, 669.0, 543.0, 487.0, 470.0, 457.0, 420.0, 406.0, 370.0, 344.0, 378.0, 335.0, 324.0, 323.0, 321.0, 459.0, 277.0, 238.0, 260.0, 232.0, 235.0, 210.0, 202.0, 203.0, 199.0, 201.0, 274.0, 185.0, 6.799121150322262, 33.99560575161131, 13.598242300644523, 6.799121150322262, 6.799121150322262, 13.598242300644523, 6.799121150322262, 6.799121150322262, 6.799121150322262, 13.598242300644523, 6.799121150322262, 6.799121150322262, 210.7727556599901, 33.99560575161131, 6.799121150322262, 13.598242300644523, 67.019908481748, 33.99560575161131, 6.799121150322262, 6.799121150322262, 543.9296920257809, 6.799121150322262, 13.598242300644523, 27.196484601289047, 6.799121150322262, 169.00672573658193, 0.9713030214746088, 1.9426060429492176, 0.9713030214746088, 0.9713030214746088, 235.05533119685532, 185.51887710165028, 181.63366501575186, 172.89193782248037, 165.12151365068348, 115.58505955547845, 111.69984746958, 104.90072631925774, 101.01551423335931, 79.64684776091792, 78.67554473944331, 76.7329386964941, 73.81902963207027, 71.87642358912105, 66.0486054602734, 127.25881148853125, 49.536454095205045, 49.536454095205045, 47.59384805225583, 45.65124200930661, 42.73733294488279, 38.85212085898436, 38.85212085898436, 36.909514816035134, 35.93821179456052, 35.93821179456052, 378.2099782341133, 1.0051807487111326, 1.0051807487111326, 1.0051807487111326, 1.0051807487111326, 6.031084492266796, 3.015542246133398, 1.0051807487111326, 3.015542246133398, 1.0051807487111326, 1.0051807487111326, 1.0051807487111326, 1.0051807487111326, 5.025903743555663, 1.0051807487111326, 1.0051807487111326, 1.0051807487111326, 3.015542246133398, 5.025903743555663, 1.0051807487111326, 1.0051807487111326, 1.0051807487111326, 1.0051807487111326, 8.04144598968906, 1.0051807487111326, 1.0051807487111326, 1.0051807487111326, 3.015542246133398, 1.0051807487111326, 1.0051807487111326, 1.0051807487111326, 420.1655529612534, 176.91181177315934, 171.88590802960368, 156.80819679893668, 150.7771123066699, 143.74084706569195, 201.03541800384951, 109.56470160951345, 107.5543401120912, 104.53879786595779, 89.4610866352908, 77.39891765075721, 71.36783315849041, 60.31084492266796, 58.300483425245694, 52.269398932978895, 51.26421818426777, 50.25903743555663, 50.25903743555663, 46.2383144407121, 41.212410697156436, 39.20204919973417, 39.20204919973417, 37.19168770231191, 37.19168770231191, 36.18650695360078, 35.18132620488964, 34.17614545617851, 34.17614545617851, 33.17096470746738, 72.36245510999568, 148.67172163439477, 55.25341707535425, 46.263614929558294, 110.54022126244234, 459.59052248716716, 103.45471059438904, 48.30478392484612, 0.9894186968321065, 2.9682560904963196, 3.957674787328426, 14.841280452481596, 2.9682560904963196, 0.9894186968321065, 1.978837393664213, 0.9894186968321065, 20.777792633474235, 0.9894186968321065, 15.830699149313704, 0.9894186968321065, 4.947093484160533, 0.9894186968321065, 0.9894186968321065, 0.9894186968321065, 16.82011784614581, 0.9894186968321065, 0.9894186968321065, 0.9894186968321065, 0.9894186968321065, 0.9894186968321065, 0.9894186968321065, 0.9894186968321065, 36.60849178278794, 10.883605665153171, 23.746048723970556, 1.978837393664213, 30.6719796017953, 2.9682560904963196, 470.9632996920827, 199.8625767600855, 157.31757279630494, 119.71966231668488, 105.8678005610354, 102.89954447053907, 85.09000792756116, 152.3523636367869, 80.14291444340063, 76.1852396560722, 74.20640226240799, 73.21698356557587, 66.29105268775113, 62.33337790042271, 58.37570311309429, 125.6831581468989, 53.42860962893375, 50.46035353843744, 49.47093484160533, 41.55558526694847, 37.59791047962005, 35.61907308595583, 34.62965438912373, 33.64023569229162, 32.650816995459515, 31.661398298627407, 31.661398298627407, 31.661398298627407, 189.07354340620648, 88.0686705274038, 109.96753682987443, 49.49934713790745, 980.9399474227434, 49.50041335255081, 38.60309122833118, 274.28456740012314, 53.60774564145886, 50.60221200534866, 47.7349502909335, 1.0164023460534832, 1.0164023460534832, 6.0984140763209, 1.0164023460534832, 30.492070381604496, 1.0164023460534832, 4.065609384213933, 1.0164023460534832, 15.246035190802248, 1.0164023460534832, 2.0328046921069665, 1.0164023460534832, 1.0164023460534832, 1.0164023460534832, 1.0164023460534832, 1.0164023460534832, 1.0164023460534832, 1.0164023460534832, 1.0164023460534832, 1.0164023460534832, 3.04920703816045, 1.0164023460534832, 1.0164023460534832, 1.0164023460534832, 1.0164023460534832, 1.0164023460534832, 1.0164023460534832, 1.0164023460534832, 1.0164023460534832, 1.0164023460534832, 810.0726698046262, 487.87312610567193, 335.41277419764947, 277.4778404726009, 181.9360199435735, 168.72278944487823, 154.49315660012945, 143.31273079354114, 140.2635237553807, 103.6730392974553, 91.47621114481349, 77.24657830006473, 73.1809689158508, 72.16456656979732, 65.04975014742293, 64.03334780136944, 63.01694545531597, 60.98414076320899, 58.95133607110203, 45.738105572406745, 44.72170322635326, 44.72170322635326, 44.72170322635326, 37.60688680397888, 36.5904844579254, 35.57408211187192, 35.57408211187192, 33.541277419764945, 28.45926568949753, 44.694719577131885, 53.81535704239187, 64.94084817468183, 83.17666841625038, 59.980596240882235, 166.1758378802454, 1.0041579523048485, 1.0041579523048485, 1.0041579523048485, 1.0041579523048485, 2.008315904609697, 1.0041579523048485, 5.0207897615242425, 3.0124738569145455, 1.0041579523048485, 7.0291056661339395, 1.0041579523048485, 1.0041579523048485, 1.0041579523048485, 31.128896521450308, 1.0041579523048485, 1.0041579523048485, 1.0041579523048485, 4.016631809219394, 2.008315904609697, 6.024947713829091, 1.0041579523048485, 1.0041579523048485, 1.0041579523048485, 1.0041579523048485, 5.0207897615242425, 4.016631809219394, 1.0041579523048485, 1.0041579523048485, 1.0041579523048485, 1.0041579523048485, 669.773354187334, 457.89602625101094, 344.4261776405631, 203.84406431788426, 108.44905884892364, 98.40747932587516, 97.40332137357031, 90.37421570743638, 76.31600437516849, 71.29521461364425, 68.2827407567297, 64.2661089475103, 55.22868737676667, 53.22037147215698, 52.216213519852126, 51.212055567547274, 49.20373966293758, 47.195423758327884, 44.18294990141334, 42.174633996803635, 41.17047604449879, 40.16631809219394, 39.162160139889096, 39.162160139889096, 37.1538442352794, 36.14968628297454, 34.14137037836485, 29.120580616840606, 29.120580616840606, 59.21246425515582, 52.21723631625841, 63.263996588018024, 198.1497152352683, 148.9295813459874, 166.1758378802454, 67.19275879722858, 124.55240675642744, 43.11308208744801, 0.9946219515052627, 0.9946219515052627, 0.9946219515052627, 0.9946219515052627, 0.9946219515052627, 0.9946219515052627, 0.9946219515052627, 1.9892439030105253, 0.9946219515052627, 2.9838658545157877, 2.9838658545157877, 6.962353660536839, 0.9946219515052627, 0.9946219515052627, 0.9946219515052627, 0.9946219515052627, 0.9946219515052627, 0.9946219515052627, 1.9892439030105253, 0.9946219515052627, 1.9892439030105253, 0.9946219515052627, 4.973109757526314, 0.9946219515052627, 0.9946219515052627, 0.9946219515052627, 0.9946219515052627, 0.9946219515052627, 0.9946219515052627, 2.9838658545157877, 370.99398791146297, 324.24675619071564, 159.13951224084204, 150.18791467729466, 126.31698784116837, 108.41379271407362, 107.41917076256837, 105.42992685955785, 96.47832929601049, 95.4837073445052, 86.53210978095785, 78.57513416891575, 78.57513416891575, 75.59126831439995, 74.5966463628947, 73.60202441138944, 73.60202441138944, 56.69345123579997, 55.69882928429471, 52.714963429778926, 49.73109757526313, 47.7418536722526, 45.752609769242085, 43.76336586623156, 149.23685351488584, 36.80101220569472, 35.80639025418946, 35.80639025418946, 33.81714635117893, 30.833280496663143, 74.60618236369429, 260.70709806364334, 84.5619378795465, 119.42138618622863, 63.830048052722574, 980.9399474227434, 66.77693511452891, 1.0044490103341193, 1.0044490103341193, 1.0044490103341193, 1.0044490103341193, 22.097878227350627, 9.040041093007073, 1.0044490103341193, 2.0088980206682385, 1.0044490103341193, 1.0044490103341193, 2.0088980206682385, 1.0044490103341193, 7.031143072338835, 18.080082186014145, 1.0044490103341193, 11.048939113675313, 1.0044490103341193, 7.031143072338835, 10.044490103341193, 1.0044490103341193, 1.0044490103341193, 34.15126635136006, 27.12012327902122, 7.031143072338835, 3.0133470310023585, 1.0044490103341193, 1.0044490103341193, 1.0044490103341193, 1.0044490103341193, 3.0133470310023585, 406.80184918531836, 238.0544154491863, 323.44596331038656, 202.89870008749213, 179.79637284980734, 166.73853571546383, 136.60506540544023, 109.484942126419, 107.47604410575076, 70.31143072338836, 70.31143072338836, 137.61024615415135, 63.28028765104952, 56.24914457871068, 53.23579754770833, 52.2313485373742, 51.22689952704008, 49.21800150637185, 44.195756454701254, 44.195756454701254, 44.195756454701254, 43.19130744436713, 41.18240942369889, 39.17351140303066, 38.16906239269653, 38.16906239269653, 35.15571536169418, 35.15571536169418, 34.15126635136006, 34.15126635136006, 82.36452778936851, 46.21660781108885, 45.20093720341239, 274.28456740012314, 66.52112838965375, 112.29675911509386, 1.01783099313423, 4.07132397253692, 9.160478938208069, 1.01783099313423, 1.01783099313423, 1.01783099313423, 4.07132397253692, 4.07132397253692, 5.089154965671149, 1.01783099313423, 1.01783099313423, 1.01783099313423, 10.178309931342298, 1.01783099313423, 1.01783099313423, 1.01783099313423, 3.05349297940269, 1.01783099313423, 4.07132397253692, 1.01783099313423, 1.01783099313423, 1.01783099313423, 1.01783099313423, 1.01783099313423, 2.03566198626846, 1.01783099313423, 6.10698595880538, 4.07132397253692, 2.03566198626846, 1.01783099313423, 755.2305969055985, 232.06546643460442, 136.38935307998682, 126.21104314864449, 321.5944478820163, 109.92574725849683, 82.44431044387262, 67.17684554685918, 63.105521574322246, 58.016366608651104, 56.99853561551687, 54.96287362924841, 45.80239469104035, 110.94214960455031, 42.74890171163765, 41.731070718503425, 40.71323972536919, 38.677577739100734, 36.641915752832276, 36.641915752832276, 34.60625376656382, 33.58842277342959, 33.58842277342959, 32.57059178029536, 32.57059178029536, 92.59941133358596, 27.481436814624207, 27.481436814624207, 85.48442144047519, 25.44577482835575, 63.09184853349287, 47.791528705649185, 47.80964438100668, 46.79181338787245, 214.05203214376945, 45.77398239473822, 459.59052248716716, 51.803162500529744, 112.29675911509386, 43.68644080797122], \"Category\": [\"Default\", \"Default\", \"Default\", \"Default\", \"Default\", \"Default\", \"Default\", \"Default\", \"Default\", \"Default\", \"Default\", \"Default\", \"Default\", \"Default\", \"Default\", \"Default\", \"Default\", \"Default\", \"Default\", \"Default\", \"Default\", \"Default\", \"Default\", \"Default\", \"Default\", \"Default\", \"Default\", \"Default\", \"Default\", \"Default\", \"Topic1\", \"Topic1\", \"Topic1\", \"Topic1\", \"Topic1\", \"Topic1\", \"Topic1\", \"Topic1\", \"Topic1\", \"Topic1\", \"Topic1\", \"Topic1\", \"Topic1\", \"Topic1\", \"Topic1\", \"Topic1\", \"Topic1\", \"Topic1\", \"Topic1\", \"Topic1\", \"Topic1\", \"Topic1\", \"Topic1\", \"Topic1\", \"Topic1\", \"Topic1\", \"Topic1\", \"Topic1\", \"Topic1\", \"Topic1\", \"Topic1\", \"Topic1\", \"Topic1\", \"Topic1\", \"Topic1\", \"Topic1\", \"Topic1\", \"Topic1\", \"Topic1\", \"Topic1\", \"Topic1\", \"Topic1\", \"Topic1\", \"Topic1\", \"Topic1\", \"Topic1\", \"Topic1\", \"Topic1\", \"Topic1\", \"Topic1\", \"Topic1\", \"Topic1\", \"Topic1\", \"Topic1\", \"Topic1\", \"Topic1\", \"Topic1\", \"Topic2\", \"Topic2\", \"Topic2\", \"Topic2\", \"Topic2\", \"Topic2\", \"Topic2\", \"Topic2\", \"Topic2\", \"Topic2\", \"Topic2\", \"Topic2\", \"Topic2\", \"Topic2\", \"Topic2\", \"Topic2\", \"Topic2\", \"Topic2\", \"Topic2\", \"Topic2\", \"Topic2\", \"Topic2\", \"Topic2\", \"Topic2\", \"Topic2\", \"Topic2\", \"Topic2\", \"Topic2\", \"Topic2\", \"Topic2\", \"Topic2\", \"Topic2\", \"Topic2\", \"Topic2\", \"Topic2\", \"Topic2\", \"Topic2\", \"Topic2\", \"Topic2\", \"Topic2\", \"Topic2\", \"Topic2\", \"Topic2\", \"Topic2\", \"Topic2\", \"Topic2\", \"Topic2\", \"Topic2\", \"Topic2\", \"Topic2\", \"Topic2\", \"Topic2\", \"Topic2\", \"Topic2\", \"Topic2\", \"Topic2\", \"Topic2\", \"Topic2\", \"Topic2\", \"Topic2\", \"Topic2\", \"Topic2\", \"Topic2\", \"Topic2\", \"Topic2\", \"Topic2\", \"Topic2\", \"Topic2\", \"Topic3\", \"Topic3\", \"Topic3\", \"Topic3\", \"Topic3\", \"Topic3\", \"Topic3\", \"Topic3\", \"Topic3\", \"Topic3\", \"Topic3\", \"Topic3\", \"Topic3\", \"Topic3\", \"Topic3\", \"Topic3\", \"Topic3\", \"Topic3\", \"Topic3\", \"Topic3\", \"Topic3\", \"Topic3\", \"Topic3\", \"Topic3\", \"Topic3\", \"Topic3\", \"Topic3\", \"Topic3\", \"Topic3\", \"Topic3\", \"Topic3\", \"Topic3\", \"Topic3\", \"Topic3\", \"Topic3\", \"Topic3\", \"Topic3\", \"Topic3\", \"Topic3\", \"Topic3\", \"Topic3\", \"Topic3\", \"Topic3\", \"Topic3\", \"Topic3\", \"Topic3\", \"Topic3\", \"Topic3\", \"Topic3\", \"Topic3\", \"Topic3\", \"Topic3\", \"Topic3\", \"Topic3\", \"Topic3\", \"Topic3\", \"Topic3\", \"Topic3\", \"Topic3\", \"Topic3\", \"Topic3\", \"Topic3\", \"Topic3\", \"Topic3\", \"Topic3\", \"Topic3\", \"Topic3\", \"Topic3\", \"Topic3\", \"Topic4\", \"Topic4\", \"Topic4\", \"Topic4\", \"Topic4\", \"Topic4\", \"Topic4\", \"Topic4\", \"Topic4\", \"Topic4\", \"Topic4\", \"Topic4\", \"Topic4\", \"Topic4\", \"Topic4\", \"Topic4\", \"Topic4\", \"Topic4\", \"Topic4\", \"Topic4\", \"Topic4\", \"Topic4\", \"Topic4\", \"Topic4\", \"Topic4\", \"Topic4\", \"Topic4\", \"Topic4\", \"Topic4\", \"Topic4\", \"Topic4\", \"Topic4\", \"Topic4\", \"Topic4\", \"Topic4\", \"Topic4\", \"Topic4\", \"Topic4\", \"Topic4\", \"Topic4\", \"Topic4\", \"Topic4\", \"Topic4\", \"Topic4\", \"Topic4\", \"Topic4\", \"Topic4\", \"Topic4\", \"Topic4\", \"Topic4\", \"Topic4\", \"Topic4\", \"Topic4\", \"Topic4\", \"Topic4\", \"Topic4\", \"Topic4\", \"Topic4\", \"Topic4\", \"Topic4\", \"Topic4\", \"Topic4\", \"Topic4\", \"Topic4\", \"Topic4\", \"Topic5\", \"Topic5\", \"Topic5\", \"Topic5\", \"Topic5\", \"Topic5\", \"Topic5\", \"Topic5\", \"Topic5\", \"Topic5\", \"Topic5\", \"Topic5\", \"Topic5\", \"Topic5\", \"Topic5\", \"Topic5\", \"Topic5\", \"Topic5\", \"Topic5\", \"Topic5\", \"Topic5\", \"Topic5\", \"Topic5\", \"Topic5\", \"Topic5\", \"Topic5\", \"Topic5\", \"Topic5\", \"Topic5\", \"Topic5\", \"Topic5\", \"Topic5\", \"Topic5\", \"Topic5\", \"Topic5\", \"Topic5\", \"Topic5\", \"Topic5\", \"Topic5\", \"Topic5\", \"Topic5\", \"Topic5\", \"Topic5\", \"Topic5\", \"Topic5\", \"Topic5\", \"Topic5\", \"Topic5\", \"Topic5\", \"Topic5\", \"Topic5\", \"Topic5\", \"Topic5\", \"Topic5\", \"Topic5\", \"Topic5\", \"Topic5\", \"Topic5\", \"Topic5\", \"Topic5\", \"Topic5\", \"Topic5\", \"Topic5\", \"Topic5\", \"Topic5\", \"Topic5\", \"Topic5\", \"Topic5\", \"Topic6\", \"Topic6\", \"Topic6\", \"Topic6\", \"Topic6\", \"Topic6\", \"Topic6\", \"Topic6\", \"Topic6\", \"Topic6\", \"Topic6\", \"Topic6\", \"Topic6\", \"Topic6\", \"Topic6\", \"Topic6\", \"Topic6\", \"Topic6\", \"Topic6\", \"Topic6\", \"Topic6\", \"Topic6\", \"Topic6\", \"Topic6\", \"Topic6\", \"Topic6\", \"Topic6\", \"Topic6\", \"Topic6\", \"Topic6\", \"Topic6\", \"Topic6\", \"Topic6\", \"Topic6\", \"Topic6\", \"Topic6\", \"Topic6\", \"Topic6\", \"Topic6\", \"Topic6\", \"Topic6\", \"Topic6\", \"Topic6\", \"Topic6\", \"Topic6\", \"Topic6\", \"Topic6\", \"Topic6\", \"Topic6\", \"Topic6\", \"Topic6\", \"Topic6\", \"Topic6\", \"Topic6\", \"Topic6\", \"Topic6\", \"Topic6\", \"Topic6\", \"Topic6\", \"Topic6\", \"Topic6\", \"Topic6\", \"Topic6\", \"Topic6\", \"Topic6\", \"Topic6\", \"Topic6\", \"Topic7\", \"Topic7\", \"Topic7\", \"Topic7\", \"Topic7\", \"Topic7\", \"Topic7\", \"Topic7\", \"Topic7\", \"Topic7\", \"Topic7\", \"Topic7\", \"Topic7\", \"Topic7\", \"Topic7\", \"Topic7\", \"Topic7\", \"Topic7\", \"Topic7\", \"Topic7\", \"Topic7\", \"Topic7\", \"Topic7\", \"Topic7\", \"Topic7\", \"Topic7\", \"Topic7\", \"Topic7\", \"Topic7\", \"Topic7\", \"Topic7\", \"Topic7\", \"Topic7\", \"Topic7\", \"Topic7\", \"Topic7\", \"Topic7\", \"Topic7\", \"Topic7\", \"Topic7\", \"Topic7\", \"Topic7\", \"Topic7\", \"Topic7\", \"Topic7\", \"Topic7\", \"Topic7\", \"Topic7\", \"Topic7\", \"Topic7\", \"Topic7\", \"Topic7\", \"Topic7\", \"Topic7\", \"Topic7\", \"Topic7\", \"Topic7\", \"Topic7\", \"Topic7\", \"Topic7\", \"Topic7\", \"Topic7\", \"Topic7\", \"Topic7\", \"Topic7\", \"Topic7\", \"Topic8\", \"Topic8\", \"Topic8\", \"Topic8\", \"Topic8\", \"Topic8\", \"Topic8\", \"Topic8\", \"Topic8\", \"Topic8\", \"Topic8\", \"Topic8\", \"Topic8\", \"Topic8\", \"Topic8\", \"Topic8\", \"Topic8\", \"Topic8\", \"Topic8\", \"Topic8\", \"Topic8\", \"Topic8\", \"Topic8\", \"Topic8\", \"Topic8\", \"Topic8\", \"Topic8\", \"Topic8\", \"Topic8\", \"Topic8\", \"Topic8\", \"Topic8\", \"Topic8\", \"Topic8\", \"Topic8\", \"Topic8\", \"Topic8\", \"Topic8\", \"Topic8\", \"Topic8\", \"Topic8\", \"Topic8\", \"Topic8\", \"Topic8\", \"Topic8\", \"Topic8\", \"Topic8\", \"Topic8\", \"Topic8\", \"Topic8\", \"Topic8\", \"Topic8\", \"Topic8\", \"Topic8\", \"Topic8\", \"Topic8\", \"Topic8\", \"Topic8\", \"Topic8\", \"Topic8\", \"Topic8\", \"Topic8\", \"Topic8\", \"Topic8\", \"Topic8\", \"Topic8\", \"Topic8\", \"Topic8\", \"Topic8\", \"Topic8\"], \"logprob\": [30.0, 29.0, 28.0, 27.0, 26.0, 25.0, 24.0, 23.0, 22.0, 21.0, 20.0, 19.0, 18.0, 17.0, 16.0, 15.0, 14.0, 13.0, 12.0, 11.0, 10.0, 9.0, 8.0, 7.0, 6.0, 5.0, 4.0, 3.0, 2.0, 1.0, -6.8476, -5.2381, -6.1544, -6.8476, -6.8476, -6.1544, -6.8476, -6.8476, -6.8476, -6.1544, -6.8476, -6.8476, -3.4136, -5.2381, -6.8476, -6.1544, -4.5594, -5.2381, -6.8476, -6.8476, -2.4655, -6.8476, -6.1544, -5.4613, -6.8476, -3.6344, -8.7935, -8.1003, -8.7935, -8.7935, -3.3045, -3.5412, -3.5624, -3.6117, -3.6577, -4.0143, -4.0485, -4.1113, -4.1491, -4.3867, -4.399, -4.424, -4.4627, -4.4894, -4.574, -3.9259, -4.8616, -4.8616, -4.9016, -4.9433, -5.0093, -5.1046, -5.1046, -5.1559, -5.1825, -5.1825, -2.8719, -8.7559, -8.7559, -8.7559, -8.7559, -6.9641, -7.6573, -8.7559, -7.6573, -8.7559, -8.7559, -8.7559, -8.7559, -7.1465, -8.7559, -8.7559, -8.7559, -7.6573, -7.1465, -8.7559, -8.7559, -8.7559, -8.7559, -6.6765, -8.7559, -8.7559, -8.7559, -7.6573, -8.7559, -8.7559, -8.7559, -2.7204, -3.5854, -3.6142, -3.706, -3.7453, -3.7931, -3.4626, -4.0645, -4.0831, -4.1115, -4.2673, -4.4121, -4.4932, -4.6616, -4.6955, -4.8047, -4.8241, -4.8439, -4.8439, -4.9273, -5.0423, -5.0923, -5.0923, -5.145, -5.145, -5.1724, -5.2005, -5.2295, -5.2295, -5.2594, -4.4932, -3.8214, -4.7856, -4.9717, -4.3614, -3.4676, -4.4792, -4.9947, -8.757, -7.6584, -7.3707, -6.0489, -7.6584, -8.757, -8.0639, -8.757, -5.7125, -8.757, -5.9844, -8.757, -7.1476, -8.757, -8.757, -8.757, -5.9238, -8.757, -8.757, -8.757, -8.757, -8.757, -8.757, -8.757, -5.1461, -6.3591, -5.5789, -8.0639, -5.323, -7.6584, -2.5916, -3.4487, -3.6881, -3.9612, -4.0842, -4.1126, -4.3026, -3.7266, -4.3625, -4.4132, -4.4395, -4.4529, -4.5523, -4.6139, -4.6795, -3.9207, -4.768, -4.8252, -4.845, -5.0193, -5.1194, -5.1735, -5.2016, -5.2306, -5.2605, -5.2913, -5.2913, -5.2913, -3.5366, -4.2911, -4.0936, -4.8652, -2.1777, -4.8858, -5.1194, -3.8972, -4.9284, -5.0193, -5.0934, -8.7278, -8.7278, -6.936, -8.7278, -5.3266, -8.7278, -7.3415, -8.7278, -6.0197, -8.7278, -8.0346, -8.7278, -8.7278, -8.7278, -8.7278, -8.7278, -8.7278, -8.7278, -8.7278, -8.7278, -7.6292, -8.7278, -8.7278, -8.7278, -8.7278, -8.7278, -8.7278, -8.7278, -8.7278, -8.7278, -2.0469, -2.554, -2.9287, -3.1183, -3.5404, -3.6158, -3.7039, -3.779, -3.8005, -4.1028, -4.228, -4.397, -4.4511, -4.4651, -4.5689, -4.5846, -4.6006, -4.6334, -4.6673, -4.9211, -4.9436, -4.9436, -4.9436, -5.1169, -5.1443, -5.1724, -5.1724, -5.2313, -5.3956, -4.9666, -4.796, -4.6502, -4.5231, -4.8158, -5.0389, -8.7338, -8.7338, -8.7338, -8.7338, -8.0406, -8.7338, -7.1243, -7.6351, -8.7338, -6.7878, -8.7338, -8.7338, -8.7338, -5.2998, -8.7338, -8.7338, -8.7338, -7.3475, -8.0406, -6.942, -8.7338, -8.7338, -8.7338, -8.7338, -7.1243, -7.3475, -8.7338, -8.7338, -8.7338, -8.7338, -2.231, -2.6113, -2.896, -3.4205, -4.0516, -4.1488, -4.159, -4.2339, -4.403, -4.4711, -4.5142, -4.5749, -4.7264, -4.7635, -4.7825, -4.8019, -4.8419, -4.8836, -4.9496, -4.9961, -5.0202, -5.0449, -5.0702, -5.0702, -5.1228, -5.1502, -5.2074, -5.3665, -5.3665, -4.6733, -4.8019, -4.6229, -3.598, -3.8817, -3.9054, -4.6733, -4.2564, -5.0202, -8.7339, -8.7339, -8.7339, -8.7339, -8.7339, -8.7339, -8.7339, -8.0408, -8.7339, -7.6353, -7.6353, -6.788, -8.7339, -8.7339, -8.7339, -8.7339, -8.7339, -8.7339, -8.0408, -8.7339, -8.0408, -8.7339, -7.1245, -8.7339, -8.7339, -8.7339, -8.7339, -8.7339, -8.7339, -7.6353, -2.8123, -2.947, -3.6587, -3.7166, -3.8897, -4.0426, -4.0518, -4.0705, -4.1592, -4.1696, -4.268, -4.3645, -4.3645, -4.4032, -4.4164, -4.4299, -4.4299, -4.6909, -4.7086, -4.7636, -4.8219, -4.8627, -4.9053, -4.9497, -3.7367, -5.123, -5.1504, -5.1504, -5.2076, -5.2999, -4.4299, -3.2085, -4.3151, -4.0065, -4.7086, -3.1392, -4.7449, -8.7129, -8.7129, -8.7129, -8.7129, -5.6219, -6.5157, -8.7129, -8.0198, -8.7129, -8.7129, -8.0198, -8.7129, -6.767, -5.8226, -8.7129, -6.315, -8.7129, -6.767, -6.4103, -8.7129, -8.7129, -5.1866, -5.4171, -6.767, -7.6143, -8.7129, -8.7129, -8.7129, -8.7129, -7.6143, -2.709, -3.2449, -2.9415, -3.4047, -3.5255, -3.6009, -3.8003, -4.0216, -4.0401, -4.4644, -4.4644, -3.8003, -4.5698, -4.6876, -4.7426, -4.7617, -4.7811, -4.8211, -4.9287, -4.9287, -4.9287, -4.9517, -4.9994, -5.0494, -5.0753, -5.0753, -5.1576, -5.1576, -5.1866, -5.1866, -4.3185, -4.9063, -4.9287, -3.7293, -4.8211, -4.7811, -8.6977, -7.3114, -6.5005, -8.6977, -8.6977, -8.6977, -7.3114, -7.3114, -7.0882, -8.6977, -8.6977, -8.6977, -6.3951, -8.6977, -8.6977, -8.6977, -7.5991, -8.6977, -7.3114, -8.6977, -8.6977, -8.6977, -8.6977, -8.6977, -8.0045, -8.6977, -6.9059, -7.3114, -8.0045, -8.6977, -2.0883, -3.2683, -3.7998, -3.8774, -2.9515, -4.0155, -4.3032, -4.508, -4.5705, -4.6546, -4.6723, -4.7087, -4.891, -4.0155, -4.96, -4.9841, -5.0088, -5.0601, -5.1142, -5.1142, -5.1713, -5.2012, -5.2012, -5.2319, -5.2319, -4.1979, -5.4018, -5.4018, -4.2788, -5.4788, -4.5868, -4.869, -4.869, -4.891, -3.4719, -4.9135, -3.1525, -4.869, -4.6033, -5.0868], \"loglift\": [30.0, 29.0, 28.0, 27.0, 26.0, 25.0, 24.0, 23.0, 22.0, 21.0, 20.0, 19.0, 18.0, 17.0, 16.0, 15.0, 14.0, 13.0, 12.0, 11.0, 10.0, 9.0, 8.0, 7.0, 6.0, 5.0, 4.0, 3.0, 2.0, 1.0, 2.0546, 2.0546, 2.0546, 2.0546, 2.0546, 2.0546, 2.0546, 2.0546, 2.0546, 2.0546, 2.0546, 2.0546, 2.0546, 2.0546, 2.0546, 2.0546, 2.0546, 2.0546, 2.0546, 2.0546, 2.0546, 2.0546, 2.0546, 2.0546, 2.0546, 2.0546, 2.0546, 2.0546, 2.0546, 2.0546, 2.0546, 2.0546, 2.0546, 2.0546, 2.0546, 2.0546, 2.0546, 2.0546, 2.0546, 2.0546, 2.0546, 2.0546, 2.0546, 2.0546, 2.0546, 2.0468, 2.0546, 2.0546, 2.0546, 2.0546, 2.0546, 2.0546, 2.0546, 2.0546, 2.0546, 2.0546, 2.0116, 2.0579, 2.0579, 2.0579, 2.0579, 2.0579, 2.0579, 2.0579, 2.0579, 2.0579, 2.0579, 2.0579, 2.0579, 2.0579, 2.0579, 2.0579, 2.0579, 2.0579, 2.0579, 2.0579, 2.0579, 2.0579, 2.0579, 2.0579, 2.0579, 2.0579, 2.0579, 2.0579, 2.0579, 2.0579, 2.0579, 2.0579, 2.0579, 2.0579, 2.0579, 2.0579, 2.0579, 2.0529, 2.0579, 2.0579, 2.0579, 2.0579, 2.0579, 2.0579, 2.0579, 2.0579, 2.0579, 2.0579, 2.0579, 2.0579, 2.0579, 2.0579, 2.0579, 2.0579, 2.0579, 2.0579, 2.0579, 2.0579, 2.0579, 2.0579, 2.0579, 2.0441, 1.9958, 2.0214, 2.0129, 1.7521, 1.221, 1.7006, 1.9467, 2.0726, 2.0726, 2.0726, 2.0726, 2.0726, 2.0726, 2.0726, 2.0726, 2.0726, 2.0726, 2.0726, 2.0726, 2.0726, 2.0726, 2.0726, 2.0726, 2.0726, 2.0726, 2.0726, 2.0726, 2.0726, 2.0726, 2.0726, 2.0726, 2.0726, 2.0726, 2.0726, 2.0726, 2.0726, 2.0726, 2.0726, 2.0726, 2.0726, 2.0726, 2.0726, 2.0726, 2.0726, 2.0662, 2.0726, 2.0726, 2.0726, 2.0726, 2.0726, 2.0726, 2.0726, 2.0645, 2.0726, 2.0726, 2.0726, 2.0726, 2.0726, 2.0726, 2.0726, 2.0726, 2.0726, 2.0726, 2.0726, 2.0726, 2.0402, 2.0498, 2.0252, 2.0518, 1.7527, 2.0312, 2.0462, 1.3076, 1.9089, 1.8756, 1.8599, 2.0749, 2.0749, 2.0749, 2.0749, 2.0749, 2.0749, 2.0749, 2.0749, 2.0749, 2.0749, 2.0749, 2.0749, 2.0749, 2.0749, 2.0749, 2.0749, 2.0749, 2.0749, 2.0749, 2.0749, 2.0749, 2.0749, 2.0749, 2.0749, 2.0749, 2.0749, 2.0749, 2.0749, 2.0749, 2.0749, 2.0749, 2.0749, 2.0749, 2.0749, 2.0749, 2.0749, 2.0749, 2.0749, 2.0749, 2.0749, 2.0749, 2.0749, 2.0749, 2.0749, 2.0749, 2.0749, 2.0749, 2.0749, 2.0749, 2.0749, 2.0749, 2.0749, 2.0749, 2.0749, 2.0749, 2.0749, 2.0749, 2.0749, 2.0749, 2.0525, 2.0374, 1.9952, 1.8749, 1.9092, 0.667, 2.0811, 2.0811, 2.0811, 2.0811, 2.0811, 2.0811, 2.0811, 2.0811, 2.0811, 2.0811, 2.0811, 2.0811, 2.0811, 2.0811, 2.0811, 2.0811, 2.0811, 2.0811, 2.0811, 2.0811, 2.0811, 2.0811, 2.0811, 2.0811, 2.0811, 2.0811, 2.0811, 2.0811, 2.0811, 2.0811, 2.0811, 2.0811, 2.0811, 2.0811, 2.0811, 2.0811, 2.0811, 2.0811, 2.0811, 2.0811, 2.0811, 2.0811, 2.0811, 2.0811, 2.0811, 2.0811, 2.0811, 2.0811, 2.0811, 2.0811, 2.0811, 2.0811, 2.0811, 2.0811, 2.0811, 2.0811, 2.0811, 2.0811, 2.0811, 2.0645, 2.0616, 2.0488, 1.932, 1.9338, 1.8005, 1.9381, 1.7378, 2.0349, 2.0904, 2.0904, 2.0904, 2.0904, 2.0904, 2.0904, 2.0904, 2.0904, 2.0904, 2.0904, 2.0904, 2.0904, 2.0904, 2.0904, 2.0904, 2.0904, 2.0904, 2.0904, 2.0904, 2.0904, 2.0904, 2.0904, 2.0904, 2.0904, 2.0904, 2.0904, 2.0904, 2.0904, 2.0904, 2.0904, 2.0904, 2.0904, 2.0904, 2.0904, 2.0904, 2.0904, 2.0904, 2.0904, 2.0904, 2.0904, 2.0904, 2.0904, 2.0904, 2.0904, 2.0904, 2.0904, 2.0904, 2.0904, 2.0904, 2.0904, 2.0904, 2.0904, 2.0904, 2.0904, 2.0767, 2.0904, 2.0904, 2.0904, 2.0904, 2.0904, 2.0769, 2.0471, 2.0664, 2.0298, 1.9542, 0.7912, 1.8727, 2.1016, 2.1016, 2.1016, 2.1016, 2.1016, 2.1016, 2.1016, 2.1016, 2.1016, 2.1016, 2.1016, 2.1016, 2.1016, 2.1016, 2.1016, 2.1016, 2.1016, 2.1016, 2.1016, 2.1016, 2.1016, 2.1016, 2.1016, 2.1016, 2.1016, 2.1016, 2.1016, 2.1016, 2.1016, 2.1016, 2.1016, 2.1016, 2.0984, 2.1016, 2.1016, 2.1016, 2.1016, 2.1016, 2.1016, 2.1016, 2.1016, 2.0943, 2.1016, 2.1016, 2.1016, 2.1016, 2.1016, 2.1016, 2.1016, 2.1016, 2.1016, 2.1016, 2.1016, 2.1016, 2.1016, 2.1016, 2.1016, 2.1016, 2.1016, 2.1016, 2.0893, 2.0794, 2.0791, 1.4755, 1.8003, 1.3167, 2.1036, 2.1036, 2.1036, 2.1036, 2.1036, 2.1036, 2.1036, 2.1036, 2.1036, 2.1036, 2.1036, 2.1036, 2.1036, 2.1036, 2.1036, 2.1036, 2.1036, 2.1036, 2.1036, 2.1036, 2.1036, 2.1036, 2.1036, 2.1036, 2.1036, 2.1036, 2.1036, 2.1036, 2.1036, 2.1036, 2.1036, 2.1036, 2.1036, 2.1036, 2.0942, 2.1036, 2.1036, 2.1036, 2.1036, 2.1036, 2.1036, 2.1036, 2.1036, 2.0944, 2.1036, 2.1036, 2.1036, 2.1036, 2.1036, 2.1036, 2.1036, 2.1036, 2.1036, 2.1036, 2.1036, 2.0928, 2.1036, 2.1036, 2.0918, 2.1036, 2.0876, 2.0831, 2.0827, 2.0822, 1.9808, 2.0818, 1.5361, 2.0025, 1.4945, 1.9552]}, \"token.table\": {\"Topic\": [6, 7, 8, 7, 1, 5, 6, 6, 7, 5, 4, 5, 1, 5, 7, 4, 3, 6, 6, 3, 8, 1, 2, 3, 5, 2, 6, 4, 7, 1, 8, 5, 3, 2, 5, 1, 7, 3, 1, 3, 8, 5, 8, 2, 6, 4, 8, 3, 8, 1, 1, 4, 5, 7, 6, 2, 8, 7, 6, 4, 8, 5, 4, 8, 3, 8, 2, 7, 5, 4, 6, 8, 4, 7, 8, 4, 7, 5, 4, 2, 6, 7, 1, 5, 2, 3, 4, 4, 5, 2, 3, 3, 3, 3, 8, 5, 5, 1, 5, 3, 8, 6, 4, 8, 5, 4, 6, 2, 1, 3, 4, 3, 3, 3, 2, 1, 2, 2, 2, 2, 5, 6, 7, 2, 7, 1, 5, 1, 3, 5, 1, 1, 5, 4, 4, 2, 8, 2, 6, 3, 1, 1, 6, 5, 6, 6, 8, 2, 5, 3, 7, 7, 8, 1, 2, 8, 8, 1, 4, 4, 2, 8, 4, 4, 4, 6, 8, 3, 8, 2, 2, 3, 2, 4, 7, 3, 2, 8, 2, 3, 4, 3, 2, 8, 3, 5, 4, 6, 5, 1, 3, 6, 8, 3, 1, 1, 7, 3, 2, 5, 1, 1, 5, 5, 5, 6, 7, 4, 7, 5, 2, 7, 6, 1, 3, 8, 8, 3, 8, 7, 3, 5, 3, 5, 1, 1, 1, 2, 8, 2, 6, 2, 5, 3, 1, 1, 2, 8, 7, 3, 8, 8, 2, 4, 6, 2, 6, 7, 8, 6, 3, 7, 7, 8, 3, 2, 8, 6, 6, 2, 6, 4, 2, 4, 3, 7, 7, 3, 4, 3, 4, 2, 3, 2, 4, 7, 1, 7, 8, 7, 3, 4, 5, 6, 7, 1, 4, 4, 2, 4, 4, 8, 3, 1, 3, 5, 6, 6, 6, 3, 5, 1, 1, 7, 6, 2, 4, 6, 7, 7, 2, 7, 4, 7, 2, 3, 6, 5, 1, 5, 2, 5, 3, 8, 6, 6, 8, 8, 3, 6, 2, 8, 2, 2, 2, 8, 6, 5, 2, 7, 3, 4, 5, 2, 6, 3, 4, 4, 6, 7, 8, 2, 5, 3, 8, 4, 5, 7, 5, 1, 3, 8, 7, 8, 8, 6, 7, 8, 2, 4, 5, 2, 6, 8, 1, 2, 4, 5, 2, 3, 5, 1, 1, 8, 1, 8, 4, 1, 3, 4, 1, 1, 5, 3, 8, 3, 2, 1, 3, 4, 1, 1, 5, 4, 5, 3, 3, 6, 4, 8, 5, 6, 6, 6, 2, 4, 3, 7, 6, 2, 5, 7, 5, 6, 2, 5, 2, 1, 8, 4, 5, 2, 6, 6, 2, 2, 5, 8, 7, 8, 3, 6, 8, 4, 3, 4, 3, 7, 4, 1, 4, 3, 4, 8, 8, 5, 4, 2, 8, 6, 2, 1, 6, 1, 2, 5, 8, 8, 6, 4, 2, 2, 6, 1, 6, 5, 6, 6, 6, 3, 6, 2, 7, 7, 2, 5, 4, 2, 1, 5, 3, 6, 4, 5, 8, 7, 4, 7, 1, 7, 8, 6, 7, 8, 5, 7, 7, 7, 4, 7, 6, 8, 1, 3, 1, 2, 7, 4, 5, 4, 7, 8, 2, 5, 1, 4, 8, 4, 7, 6, 7, 3, 1, 5, 5, 7, 7, 7, 7, 2, 3, 7, 7, 8, 4, 1, 6, 6, 5, 5, 7, 7, 3, 6, 1, 8, 2, 5, 6, 6, 5, 8, 5, 2, 3, 3, 6, 4, 1, 8, 7, 3, 3, 4, 7, 5, 5, 2, 6, 5, 6, 3, 7, 4, 8, 2, 3, 1, 2, 4, 8, 4], \"Freq\": [1.0054071282929138, 0.454153801070338, 0.5432035659860905, 1.0015681095159812, 1.0295448257556372, 0.8631882518029943, 0.1339430045901198, 1.0054071282929138, 0.9955706956865442, 0.9958592646751392, 0.13626060460365638, 0.8629838291564904, 1.000625027279355, 0.9958592646751393, 0.9955706956865442, 0.9838623492781469, 0.9919779003812661, 1.0054071282929138, 1.0054071282929138, 0.11679403250518354, 0.8829628857391875, 1.0020168892381067, 0.025904661211848506, 0.9843771260502432, 0.9958592646751393, 0.9948459531106465, 1.005407128292914, 1.0002600550994494, 0.9955706956865443, 1.0295448257556372, 0.9824813812366603, 0.9958592646751393, 1.0106944645394031, 0.9948459531106465, 0.9958592646751392, 1.0295448257556372, 0.9955706956865442, 1.0106944645394034, 1.000129259305476, 1.0106944645394031, 1.0113778924495034, 0.9958592646751393, 0.9824813812366603, 1.0006637657019368, 1.0054071282929138, 0.9838623492781469, 0.997367462770549, 1.0106944645394031, 0.9824813812366603, 1.0295448257556372, 1.0026871346489683, 0.24672660311510897, 0.7582329754269203, 1.0004992634869725, 1.005407128292914, 0.9948459531106465, 1.013183924400306, 0.995570695686544, 1.0054071282929138, 1.0057259570398835, 1.0122535443044378, 0.9958592646751393, 0.0090137067252119, 0.9915077397733092, 1.0106944645394031, 0.9824813812366603, 0.9948459531106465, 0.9955706956865441, 0.9958592646751393, 0.9239177141420815, 0.07699314284517346, 1.0043143008196973, 1.0119727021146652, 0.009328519256963706, 0.9919325476571407, 0.9838623492781469, 0.9955706956865442, 0.9958592646751393, 0.9838623492781469, 0.9948459531106466, 1.0054071282929138, 0.9955706956865442, 1.0295448257556372, 0.9958592646751393, 0.9948459531106465, 0.022374007700713964, 0.9844563388314145, 0.9968079065054909, 0.9958592646751392, 0.9948459531106465, 1.0009762485342166, 1.0106944645394031, 1.0106944645394031, 1.0106944645394031, 0.9824813812366603, 0.9958592646751393, 0.9958592646751393, 0.046389631711862285, 0.9509874500931769, 0.021371259790909942, 0.9830779503818573, 1.0054071282929138, 0.8502749755134787, 0.1500485250906139, 0.9958592646751392, 0.12533282120345782, 0.8773297484242049, 0.9948459531106465, 1.002451540867331, 1.0106944645394031, 0.9838623492781469, 1.0106944645394031, 1.0106944645394031, 0.9904805752486151, 0.9948459531106465, 1.0295448257556372, 0.9948459531106464, 0.9948459531106465, 0.9948459531106465, 0.9948459531106466, 0.9958592646751391, 1.0054071282929138, 0.9955706956865442, 0.9948495741987629, 0.004974247870993815, 1.0017192899244038, 0.9958592646751392, 1.0295448257556372, 0.9975685624025279, 0.9958592646751391, 1.002593390526432, 0.9927753676929358, 0.9958592646751392, 0.99876935457024, 0.9838623492781469, 0.9948459531106465, 0.9824813812366603, 0.1946779973909216, 0.8086624507007513, 0.9935640498861928, 0.9999602043258775, 0.9571402681922917, 0.04230454224054328, 0.023651302821949067, 0.9815290671108863, 1.0054071282929138, 1.013183924400306, 1.0018029178177141, 0.9958592646751393, 1.0106944645394031, 1.0028910684489452, 0.9955706956865442, 1.0000256916158865, 0.2996480278364561, 0.6959567098137045, 1.0064443417546278, 0.9824813812366603, 1.0295448257556372, 1.0002600550994494, 1.0003516623945403, 0.9948459531106465, 0.9824813812366603, 0.9981212239053663, 1.0016429941446192, 0.013401515462804282, 0.9850113865161146, 0.9971452824491478, 1.0106944645394034, 1.0058737950756287, 0.9948459531106465, 0.9948459531106465, 1.0106944645394034, 0.18033903359694342, 0.8175369523061435, 0.9955706956865442, 1.0106944645394031, 0.9510713779499309, 0.043230517179542315, 0.031733683581047466, 0.9678773492219477, 0.9997310968471491, 1.0106944645394031, 0.9948459531106465, 0.9824813812366604, 0.9494870207498589, 0.04040370301063229, 0.9838623492781469, 1.0054071282929138, 0.9958592646751393, 1.002451540867331, 0.9765107101649718, 0.02270955139918539, 0.9824813812366603, 1.0106944645394031, 1.0295448257556372, 0.9997029467482275, 0.9955706956865442, 1.0106944645394031, 0.9948459531106465, 0.9958592646751394, 1.003806205111746, 1.0010781485458038, 0.9958592646751393, 0.9958592646751393, 0.9958592646751392, 1.0054071282929138, 0.9955706956865442, 0.9838623492781469, 0.9955706956865443, 0.9958592646751393, 1.0044117795828642, 0.9955706956865441, 1.0054071282929138, 1.0295448257556372, 1.0106944645394031, 0.9997178966969527, 0.9824813812366604, 0.9548272429020623, 0.04546796394771725, 0.9955706956865442, 1.0106944645394031, 1.000227068467574, 1.0106944645394031, 0.9958592646751393, 1.0295448257556372, 0.9998464173203784, 1.00348039978714, 0.9948459531106466, 0.9824813812366604, 0.9948459531106465, 0.9974905367315523, 0.9948459531106465, 1.0003383918026136, 0.9989422033238288, 1.000129259305476, 0.9992640955863538, 0.9948459531106465, 0.9824813812366603, 0.9955706956865443, 0.9697097593281342, 0.020202286652669463, 1.0097725307154566, 0.8901809822170109, 0.10350941653686174, 0.99592215538449, 0.9948459531106465, 1.0054071282929138, 0.7366080700402119, 0.2555579018506858, 1.0054071282929138, 0.9982167551006451, 0.9955706956865443, 0.9955706956865441, 0.9983278551275744, 1.0023416177250282, 0.9948459531106466, 1.007043415767577, 1.005407128292914, 1.005407128292914, 0.9811717954023995, 0.013819321062005627, 1.0119727021146652, 1.0012231707587917, 1.0008254932312184, 1.0106944645394031, 0.9997714159215084, 0.9955706956865442, 0.9945644415928789, 0.007956515532743031, 1.0106944645394031, 1.0104532235829615, 0.9948459531106465, 0.9972185383455444, 1.0004984869351388, 0.9838623492781469, 0.9955706956865442, 1.000129259305476, 0.9955706956865442, 0.9824813812366605, 0.9955706956865441, 0.8580849548805644, 0.09327010379136569, 0.05596206227481942, 0.9950421063517497, 0.9955706956865443, 1.0041239658604362, 0.9838623492781469, 0.9838623492781469, 0.9948459531106466, 0.9838623492781469, 0.9977195654651629, 0.9824813812366603, 0.9956094725313525, 0.006563731445506375, 0.9911234482714625, 0.9958592646751393, 0.9961832096847221, 1.0054071282929138, 1.0054071282929138, 1.0106944645394031, 0.9958592646751393, 1.0295448257556372, 1.000129259305476, 0.9955706956865442, 1.005407128292914, 1.0041435788406525, 0.9838623492781469, 0.9949341373731961, 0.9955706956865442, 0.9955706956865442, 0.022123435084981075, 0.9734311437391674, 0.9838623492781468, 0.9955706956865441, 0.0010194303969650066, 0.7258344426390847, 0.27320734638662175, 0.9958592646751393, 1.0295448257556372, 0.9958592646751393, 0.9948459531106465, 0.9958592646751393, 1.0106944645394031, 0.9824813812366603, 1.0000162053530055, 1.005407128292914, 0.9996946668917502, 0.9824813812366603, 1.0106944645394034, 1.005407128292914, 0.9948459531106465, 0.9824813812366603, 0.9948459531106465, 0.9948459531106465, 0.9948459531106465, 0.9824813812366603, 1.0054071282929138, 0.9958592646751393, 0.9948459531106465, 0.9955706956865442, 1.0106944645394031, 1.0062228572162866, 0.9958592646751392, 0.9416720171188991, 0.0605360582433578, 1.0000779260463422, 0.9838623492781469, 1.013676359862333, 0.07721536305740205, 0.019303840764350513, 0.9072805159244742, 0.9948459531106465, 0.9958592646751393, 0.021846471460061367, 0.9830912157027616, 0.9838623492781469, 0.9958592646751393, 0.9955706956865443, 0.9958592646751393, 1.0295448257556372, 0.020916281912301143, 0.9830652498781538, 0.13734238562426476, 0.8698351089536768, 0.9983278551275744, 1.0054071282929138, 0.9955706956865442, 0.9824813812366603, 1.0014782594647176, 0.9838623492781469, 0.9958592646751392, 0.9948459531106465, 0.010799204720616818, 0.9935268342967473, 1.0061460797157362, 0.9948459531106465, 0.9838623492781469, 1.0007649753385635, 0.1778578375002401, 0.830003241667787, 0.9958592646751392, 1.0295448257556372, 1.0009463583735363, 0.9946107810050142, 0.02092421035868215, 0.9834378868580611, 0.9838623492781469, 0.9901082567579637, 0.007858002037761616, 0.9838623492781469, 0.9997646035230361, 1.0035899141819655, 0.9958592646751393, 1.0106944645394031, 0.9824813812366604, 1.0106944645394031, 0.9948459531106466, 1.0295448257556372, 0.8170114300382426, 0.18854109923959445, 0.9992640955863538, 0.016888336139682394, 0.9795234961015788, 0.9968079065054909, 0.9958592646751393, 0.9970364312348168, 1.0106944645394034, 1.0054071282929138, 0.9992351984856179, 0.9824813812366603, 0.01340371492438985, 0.9918749044048489, 1.0054071282929138, 1.0054071282929138, 0.9948459531106464, 0.9838623492781469, 1.0106944645394031, 0.9955706956865441, 1.0054071282929138, 0.2890349607647565, 0.706529904091627, 0.9955706956865442, 0.9958592646751393, 1.0054071282929138, 0.732764952656386, 0.26234794601278016, 1.0039729802034048, 1.0295448257556372, 0.9824813812366603, 0.9838623492781469, 0.9958592646751392, 0.9996059815944296, 1.0054071282929138, 1.0054071282929138, 0.9948459531106465, 0.019150764585536655, 0.9766889938623694, 1.0083361544270988, 0.9955295057771397, 0.003091706539680558, 1.0106944645394034, 1.0054071282929138, 0.9824813812366603, 0.9838623492781469, 0.9908769260190227, 0.9947941531590152, 0.9979813266206685, 1.0004870941837616, 0.9838623492781469, 1.0295448257556372, 0.9978178435941489, 1.0106944645394031, 0.9999102922400237, 0.9824813812366603, 0.9824813812366603, 0.9958592646751393, 1.0031537678914437, 0.43299413339307175, 0.5678968282190539, 0.9992389864015463, 0.9948459531106465, 1.004433976346963, 1.0054071282929138, 1.0093576723094482, 0.9948459531106465, 0.9958592646751393, 1.0097725307154566, 0.9824813812366603, 1.005407128292914, 0.9838623492781468, 0.9948459531106465, 0.042192944042185994, 0.958930546413318, 1.008533706862665, 1.0054071282929138, 0.058615966733831314, 0.937855467741301, 1.0054071282929138, 1.005407128292914, 1.0106944645394031, 1.0054071282929138, 0.007266900742840017, 0.9955654017690823, 0.9955706956865441, 0.031613557597763166, 0.9642135067317764, 0.9838623492781469, 0.9948459531106466, 0.1342916552859756, 0.8661811765945425, 1.0106944645394031, 1.0054071282929138, 0.9994792119651016, 0.01584990808232764, 0.9826943011043138, 0.9955706956865442, 0.02163724356593882, 0.9736759604672469, 1.0076396166970067, 0.9955706956865442, 1.0122535443044378, 0.9991233337410831, 0.01169803787812173, 0.9826351817622252, 0.012141148948942053, 0.9834330648643063, 0.9955706956865442, 0.9955706956865442, 0.9838623492781469, 0.995570695686544, 1.0054071282929138, 0.9824813812366603, 1.0017192899244038, 1.0106944645394031, 1.0017192899244038, 0.9948459531106465, 0.9955706956865442, 0.9838623492781469, 0.9958592646751392, 0.9838623492781469, 0.9955706956865442, 0.9824813812366603, 0.9948459531106465, 0.9958592646751393, 1.0295448257556372, 1.0111918589803175, 0.9824813812366603, 1.0062228572162866, 0.9955706956865442, 1.0054071282929138, 0.9955706956865442, 1.0106944645394031, 1.0295448257556372, 0.9958592646751393, 0.9958592646751393, 1.0011325431484803, 0.9955706956865443, 0.9955706956865442, 0.9955706956865442, 0.9948459531106465, 1.0106944645394031, 0.9955706956865443, 0.9955706956865441, 0.9997178966969527, 0.9975271041292322, 1.0295448257556372, 0.9960978030309424, 1.0054071282929138, 0.9958592646751393, 0.9958592646751392, 0.9955706956865443, 0.9955706956865442, 0.994651695261, 0.9987488029399807, 1.0295448257556372, 1.0006754808891911, 0.9948459531106466, 0.9958592646751393, 1.005407128292914, 1.0054071282929138, 0.9958592646751393, 1.0006754808891911, 0.9958592646751393, 0.9592166929281305, 0.03619685633691058, 1.0012487218801565, 1.0054071282929138, 0.9982779148353358, 1.0093576723094482, 0.9824813812366603, 0.9955706956865442, 1.0106944645394034, 0.03716411280937045, 0.9662669330436318, 0.9955706956865442, 0.9958592646751392, 0.9958592646751393, 0.9948459531106465, 1.005407128292914, 0.9987626444555331, 1.0054071282929138, 0.4666686179732274, 0.5359397409536283, 1.0062228572162866, 0.9824813812366605, 0.9948459531106464, 1.0006875886528745, 1.003806205111746, 0.9948459531106465, 0.9838623492781469, 0.9824813812366603, 0.9838623492781469], \"Term\": [\"\\u314b\", \"\\u314b\\u314b\", \"\\u314b\\u314b\", \"\\u314e\", \"\\u315c\", \"\\u3160\", \"\\u3160\", \"\\u3161\", \"\\u3161\\u3161\\uc790\\uc99d\", \"\\uac00\", \"\\uac00\\ub2a5\", \"\\uac00\\ub2a5\", \"\\uac00\\uc785\", \"\\uac04\\ud3b8\\uc778\\uc99d\\uc744\", \"\\uac10\\uc0ac\", \"\\uac15\\uc810\", \"\\uac15\\uc81c\", \"\\uac1c\", \"\\uac1c\\ubc1c\\uc790\", \"\\uac1c\\uc120\", \"\\uac1c\\uc120\", \"\\uac1c\\uc124\", \"\\uac1c\\uc778\", \"\\uac1c\\uc778\", \"\\uac24\\ub7ed\\uc2dc\", \"\\uac24\\ub7ed\\uc2dc\\ud3f4\\ub4dc\", \"\\uac70\", \"\\uac70\\ub798\", \"\\uac70\\ub798\\ub7c9\", \"\\uac70\\ub798\\uc190\", \"\\uac78\\uc74c\\ub354\", \"\\uac80\\uc0c9\", \"\\uac80\\uc99d\", \"\\uac8c\\uc2dc\\ud310\", \"\\uacbd\\uc6b0\", \"\\uacc4\\uc124\", \"\\uacc4\\uc154\", \"\\uacc4\\uc18d\", \"\\uacc4\\uc88c\", \"\\uacc4\\uc8c4\", \"\\uace0\", \"\\uace0\\uac00\", \"\\uace0\\uac1c\", \"\\uace0\\uac1d\", \"\\uace0\\uc218\\uc758\", \"\\uace0\\uc9c0\\ubc29\\ubc95\", \"\\uacf3\", \"\\uacf5\\uac04\", \"\\uacf5\\uae30\", \"\\uacf5\\ub3d9\\uc778\\uc99d\\uc11c\", \"\\uacf5\\uc778\\uc778\\uc99d\\uc11c\", \"\\uad00\\ub9ac\", \"\\uad00\\ub9ac\", \"\\uad00\\uc2ec\", \"\\uad50\\uccb4\", \"\\uad6c\", \"\\uad6c\\uc131\", \"\\uad6c\\uc870\", \"\\uad6c\\ud604\", \"\\uad6d\\ub0b4\", \"\\uad6d\\ubbfc\\uc740\\ud589\", \"\\uad6d\\uc778\\ub9c8\\ube14\", \"\\uad7f\", \"\\uad7f\", \"\\uad8c\\ud55c\\uc124\\uc815\", \"\\uadf8\\ub355\", \"\\uae00\", \"\\uae00\\uc528\", \"\\uae00\\uce58\", \"\\uae08\\uc561\", \"\\uae08\\uc561\", \"\\uae08\\uc735\", \"\\uae30\\uac04\", \"\\uae30\\ub2a5\", \"\\uae30\\ub2a5\", \"\\uae30\\ub2a5\\ub108\", \"\\uae30\\ub300\", \"\\uae30\\ubcf8\", \"\\uae30\\ubd88\\ud3b8\", \"\\uae30\\uc5c5\", \"\\uae30\\uc7ac\", \"\\uae30\\uc874\", \"\\uae30\\ud68c\", \"\\uae40\\ub2c8\", \"\\ub098\\ub77d\\uac00\", \"\\ub0a0\", \"\\ub0a0\", \"\\ub0b4\\uc5ed\", \"\\ub0b4\\uc6a9\", \"\\ub124\", \"\\ub124\\ud2b8\\uc6cc\\ud06c\", \"\\ub178\\ub791\", \"\\ub178\\ud2b8\", \"\\ub18d\\ud611\", \"\\ub193\\ud798\", \"\\ub204\\ub77d\", \"\\ub204\\ub984\", \"\\ub208\", \"\\ub208\", \"\\ub290\\ub08c\", \"\\ub290\\ub08c\", \"\\ub290\\ub9b0\\uc18d\", \"\\ub2e4\", \"\\ub2e4\", \"\\ub2e4\\uc591\", \"\\ub2e4\\uc6b4\", \"\\ub2e4\\uc6b4\", \"\\ub2e4\\uc6b4\\ub85c\\ub4dc\", \"\\ub2e4\\uc74c\", \"\\ub2e4\\uc74c\\ub0a0\", \"\\ub2e4\\ud06c\", \"\\ub2e8\\uc21c\\ube44\\ubc00\\ubc88\\ud638\", \"\\ub2ec\\uc804\", \"\\ub2f5\\ubcc0\", \"\\ub2f5\\uc77c\", \"\\ub2f9\\ud669\", \"\\ub300\", \"\\ub300\\ubb38\\uc791\\ub9cc\", \"\\ub300\\uc751\", \"\\ub370\\uc774\\ud130\", \"\\ub3c4\", \"\\ub3c4\\uc11c\\uad00\", \"\\ub3c4\\uc6c0\", \"\\ub3c8\", \"\\ub3c8\", \"\\ub428\\ucea1\", \"\\ub4a4\", \"\\ub4b7\\uc790\\ub9ac\", \"\\ub4dc\", \"\\ub4f1\\ub77d\", \"\\ub4f1\\ub85d\", \"\\ub514\", \"\\ub514\\uc790\\uc778\", \"\\ub54c\", \"\\ub738\\ub2c8\", \"\\ub799\\uca54\", \"\\ub808\\uc774\\uc544\\uc6c3\", \"\\ub809\", \"\\ub809\", \"\\ub85c\", \"\\ub85c\\uadf8\", \"\\ub85c\\uadf8\\uc778\", \"\\ub85c\\uadf8\\uc778\", \"\\ub85c\\ub529\", \"\\ub85c\\ub529\", \"\\ub8f9\", \"\\ub9ac\", \"\\ub9ac\\ubdf0\", \"\\ub9ac\\ubdf0\\uac70\\uc758\", \"\\ub9bc\\ucc28\\uc21c\", \"\\ub9c8\\ube14\", \"\\ub9cc\\uc810\", \"\\ub9cc\\uc871\", \"\\ub9d0\", \"\\ub9d0\", \"\\ub9d8\", \"\\ub9de\\ucda4\", \"\\ub9de\\ucda4\\uc0c1\\ub2f4\", \"\\ub9e4\", \"\\ub9e4\\ub3c4\", \"\\ub9e4\\ub3c4\\uc138\", \"\\ub9e4\\ub3c4\\uc8fc\\ubb38\", \"\\ub9e4\\ub9e4\", \"\\ub9e4\\uc218\", \"\\uba39\\ud1b5\", \"\\uba39\\ud1b5\", \"\\uba54\\ub274\", \"\\uba54\\uc138\\uc9c0\", \"\\uba74\", \"\\uba74\\ud5c8\\uc778\\uc2dd\", \"\\uba85\\uc0c9\", \"\\ubaa8\", \"\\ubaa8\\ubc14\\uc77c\", \"\\ubaa8\\ubc14\\uc77c\", \"\\ubb34\\ub8cc\", \"\\ubb34\\ud55c\\ub85c\\ub529\", \"\\ubb38\\uc790\", \"\\ubb38\\uc790\", \"\\ubb38\\uc81c\", \"\\ubb38\\uc81c\", \"\\ubbf8\\uad6d\", \"\\ubbfc\\uc911\\u315c\", \"\\ubc14\\uc774\\ube14\", \"\\ubc16\", \"\\ubc18\\ubcf5\", \"\\ubc18\\ubcf5\", \"\\ubc18\\uc601\", \"\\ubc18\\ucabd\\ud06c\\uae30\", \"\\ubc1c\\uacac\", \"\\ubc1c\\uae09\", \"\\ubc1c\\uc0dd\", \"\\ubc1c\\uc0dd\", \"\\ubc1c\\uc804\\ubc14\", \"\\ubc1c\\ud589\", \"\\ubc29\\ubb38\", \"\\ubc29\\ubc95\", \"\\ubc29\\uc9c0\", \"\\ubc30\\ud130\\ub9ac\\ub791\", \"\\ubc84\", \"\\ubc84\\uc804\", \"\\ubc88\", \"\\ubc88\\ud638\", \"\\ubc88\\ud638\\ucc28\", \"\\ubc8c\", \"\\ubcc0\\uacbd\", \"\\ubcc4\", \"\\ubcc4\\ubc18\\uac1c\", \"\\ubcc4\\ud45c\", \"\\ubcf4\", \"\\ubcf4\\uae30\\ud3b8\", \"\\ubcf4\\uc0c1\", \"\\ubcf4\\uc720\", \"\\ubcf4\\uc720\\uc8fc\\uc2dd\", \"\\ubcf5\\uc0ac\", \"\\ubd80\\ubd80\", \"\\ubd80\\ubd84\", \"\\ubd80\\uc871\", \"\\ubd80\\ud0c1\", \"\\ubd80\\ud0c1\", \"\\ubd81\\uc5d0\\uc0ac\", \"\\ubd88\\uac00\\uc784\", \"\\ubd88\\ud3b8\", \"\\ubd89\\uc740\\uc0c9\", \"\\ube44\\uad50\", \"\\ube44\\ub300\", \"\\ube44\\ubc00\", \"\\ube44\\ubc88\", \"\\ube44\\uc6a9\", \"\\ube60\", \"\\uc0ac\\uacfc\\ud55c\\ub9c8\\ub514\", \"\\uc0ac\\ub78c\", \"\\uc0ac\\uc548\", \"\\uc0ac\\uc6a9\", \"\\uc0ac\\uc6a9\\uc790\", \"\\uc0ac\\uc9c4\", \"\\uc0ad\\uc81c\", \"\\uc0bd\\uc9c8\", \"\\uc0c1\\uc138\\uc885\\ubaa9\", \"\\uc0c1\\uc7a5\\uc0ac\", \"\\uc0c1\\ud0dc\", \"\\uc0c1\\ud0dc\", \"\\uc0c1\\ud488\", \"\\uc0c1\\ud669\", \"\\uc0c1\\ud669\", \"\\uc0dd\\uac01\", \"\\uc0dd\\ud65c\", \"\\uc11c\\ubc84\", \"\\uc11c\\ube44\\uc2a4\", \"\\uc11c\\ube44\\uc2a4\", \"\\uc120\\ubd88\\ud3f0\\uc544\\ub2c8\", \"\\uc120\\ud0dd\", \"\\uc120\\ud0dd\\uc8fc\", \"\\uc124\\uba85\", \"\\uc124\\uc815\", \"\\uc124\\uce58\", \"\\uc13c\\ud130\", \"\\uc18d\", \"\\uc18d\\ub3c4\", \"\\uc190\", \"\\uc190\\uc2e4\", \"\\uc190\\uc2e4\", \"\\uc190\\uc775\", \"\\uc190\\ud574\", \"\\uc218\", \"\\uc218\\uac00\", \"\\uc218\\uc218\\ub8cc\", \"\\uc218\\uc775\", \"\\uc218\\uc815\", \"\\uc218\\uc815\", \"\\uc218\\ucd08\", \"\\uc21c\\uac04\", \"\\uc21c\\uc815\\ud3f0\", \"\\uc2dc\", \"\\uc2dc\\uac04\", \"\\uc2dc\\uac04\\ud655\\uc778\\uc790\\uccb4\", \"\\uc2dc\\uacf5\", \"\\uc2dc\\ub3c4\", \"\\uc2dc\\ub3c4\\uc548\", \"\\uc2dc\\ubbac\\ub808\\uc774\\uc158\", \"\\uc2dc\\uc138\", \"\\uc2dc\\uc2a4\\ud15c\", \"\\uc2dc\\uc2a4\\ud15c\", \"\\uc2dc\\uc2a4\\ud15c\", \"\\uc2dc\\uc791\", \"\\uc2e0\\uaddc\", \"\\uc2e0\\ubd84\\uc99d\", \"\\uc2e0\\uc758\", \"\\uc2e0\\uc815\\ubcf4\", \"\\uc2e4\\ub825\", \"\\uc2e4\\uc218\", \"\\uc2e4\\uc2dc\\uac04\", \"\\uc2e4\\uc804\", \"\\uc2e4\\ud328\", \"\\uc2e4\\ud589\", \"\\uc2e4\\ud589\", \"\\uc2ec\\ud50c\", \"\\uc4f0\\ub808\\uae30\", \"\\uc544\", \"\\uc544\\ub0a0\\ub85c\\uadf8\\uc2dc\\ub300\", \"\\uc544\\ubb34\\uac83\", \"\\uc544\\ubc84\", \"\\uc544\\uc624\", \"\\uc544\\uc774\\ub514\", \"\\uc544\\uc774\\ucf58\\ud558\", \"\\uc544\\uce68\", \"\\uc548\", \"\\uc548\\ub0a8\\uc544\", \"\\uc548\\uc815\", \"\\uc54c\", \"\\uc54c\\uace0\\ub9ac\\uc998\", \"\\uc54c\\ub78c\", \"\\uc54c\\ub78c\", \"\\uc54c\\uc218\", \"\\uc55e\", \"\\uc571\", \"\\uc571\", \"\\uc571\", \"\\uc571\\ub9cc\", \"\\uc571\\uc774\", \"\\uc571\\uc774\\ub098\", \"\\uc571\\uc791\\ub3d9\", \"\\uc57c\\uadfc\", \"\\uc5b4\\uc74c\", \"\\uc5b4\\uc758\", \"\\uc5b4\\ud50c\", \"\\uc5c5\\ub370\\uc774\\ud130\", \"\\uc5c5\\ub370\\uc774\\ud2b8\", \"\\uc5c5\\ub370\\uc774\\ud2b8\\ubc84\", \"\\uc5c5\\ub370\\uc774\\ud2b8\\uc774\\ud6c4\", \"\\uc5c5\\ub383\", \"\\uc5d0\\ub7ec\", \"\\uc5ec\\ubc31\", \"\\uc5ec\\uc9c1\\uc6d0\\ubd84\", \"\\uc5ed\\uacb9\\ub124\", \"\\uc5f0\\uacb0\", \"\\uc5f0\\uacb0\\uc2e4\\ud328\", \"\\uc5f0\\uacb0\\uc744\\ubabb\", \"\\uc5f0\\ucc28\\ud2b8\", \"\\uc5fc\", \"\\uc601\\uc0c1\", \"\\uc601\\ud5a5\", \"\\uc608\\uc57d\", \"\\uc608\\uc804\", \"\\uc624\\ub298\", \"\\uc624\\ub298\", \"\\uc624\\ub958\", \"\\uc624\\ub958\\ub0a9\", \"\\uc635\\uc158\", \"\\uc644\\uc804\", \"\\uc644\\uc804\", \"\\uc644\\uc804\", \"\\uc678\\u314f\", \"\\uc694\", \"\\uc694\\uc998\", \"\\uc694\\uc998\", \"\\uc694\\uc9c0\", \"\\uc6a9\\ub3c8\", \"\\uc6a9\\uc5b4\", \"\\uc6b0\\uce21\", \"\\uc6d4\\uc694\\uc77c\\uc544\\uce68\", \"\\uc704\\uc82f\", \"\\uc704\\uc82f\", \"\\uc720\\uc6a9\", \"\\uc720\\uc6a9\", \"\\uc740\\ud589\", \"\\uc758\", \"\\uc758\\ub3c4\\uc678\", \"\\uc758\\ud3ed\\ud48d\", \"\\uc774\", \"\\uc774\\u3163\\ub530\\uad6c\", \"\\uc774\\ub3d9\", \"\\uc774\\uba58\\ud2b8\", \"\\uc774\\ubc88\", \"\\uc774\\ubc88\", \"\\uc774\\ubca4\\ud2b8\", \"\\uc774\\uc0c1\", \"\\uc774\\uc2dc\", \"\\uc774\\uc6a9\", \"\\uc774\\uc720\", \"\\uc774\\uc720\", \"\\uc774\\uc804\", \"\\uc774\\uc815\\ub3c4\", \"\\uc774\\uccb4\", \"\\uc774\\ud6c4\", \"\\uc778\", \"\\uc778\", \"\\uc778\\uae30\", \"\\uc778\\uc2dd\", \"\\uc778\\uc2dd\", \"\\uc778\\uc870\\ucc28\\uc548\", \"\\uc778\\uc99d\", \"\\uc778\\uc99d\\uc11c\", \"\\uc778\\uc99d\\uc808\\ucc28\", \"\\uc778\\ud130\\ub137\", \"\\uc778\\ud130\\ud398\\uc774\\uc2a4\", \"\\uc778\\ud654\\uba74\", \"\\uc77c\", \"\\uc77c\\uce58\", \"\\uc784\", \"\\uc784\", \"\\uc785\\ub825\", \"\\uc790\\ub3d9\", \"\\uc790\\ub3d9\", \"\\uc790\\uc0b0\", \"\\uc790\\uc2e0\", \"\\uc790\\uccb4\", \"\\uc791\", \"\\uc791\\ub3d9\", \"\\uc794\\uace0\", \"\\uc7a0\\ubabb\", \"\\uc7a5\", \"\\uc7a5\", \"\\uc7a5\\ub09c\", \"\\uc7a5\\ubd80\\ud130\", \"\\uc7a5\\uc560\", \"\\uc7ac\\ub2e8\\uac00\", \"\\uc7ac\\uc124\\uce58\", \"\\uc7ac\\ud14c\\ud06c\", \"\\uc801\\ub2f9\", \"\\uc804\", \"\\uc804\", \"\\uc804\\uae30\\uc804\\uc790\", \"\\uc804\\uc6a9\", \"\\uc804\\uc6d0\\ub2e4\", \"\\uc804\\uccb4\", \"\\uc804\\uccb4\", \"\\uc804\\ud654\", \"\\uc804\\ud654\\ubc88\\ud638\", \"\\uc804\\ud658\\uc2dc\", \"\\uc804\\ud658\\ucc28\", \"\\uc810\", \"\\uc811\\uc18d\", \"\\uc811\\uc18d\\ubd88\", \"\\uc811\\uc18d\\uc548\", \"\\uc811\\uc218\", \"\\uc815\\ub3c4\", \"\\uc815\\ub3c4\", \"\\uc815\\ub9ac\", \"\\uc815\\ubcf4\", \"\\uc815\\ubcf4\", \"\\uc815\\uc0c1\", \"\\uc815\\uc218\", \"\\uc81c\\uc57d\", \"\\uc824\", \"\\uc870\\uce58\", \"\\uc870\\ud68c\", \"\\uc885\\ub8cc\", \"\\uc885\\ubaa9\", \"\\uc885\\uc77c\\ub728\", \"\\uc8fc\\ub9b0\\uc774\", \"\\uc8fc\\ubb38\", \"\\uc8fc\\uc18c\", \"\\uc8fc\\uc2dd\", \"\\uc8fc\\uc57c\", \"\\uc904\\uc218\", \"\\uc911\\uad6c\\ub09c\\ubc29\", \"\\uc911\\uc694\", \"\\uc99d\\uad8c\", \"\\uc99d\\uad8c\", \"\\uc99d\\uad8c\\uc0ac\", \"\\uc99d\\uad8c\\uc571\", \"\\uc9c0\", \"\\uc9c0\\ub3c4\", \"\\uc9c0\\ubb38\", \"\\uc9c0\\ubb38\\uc778\\uc99d\\uc65c\", \"\\uc9c0\\uc6d0\\uc548\\ub428\", \"\\uc9c1\\uad00\", \"\\uc9c1\\uc120\", \"\\uc9c4\", \"\\uc9c4\\ub3d9\", \"\\uc9c4\\uc2ec\", \"\\uc9c4\\uc9dc\", \"\\uc9c4\\uc9dc\", \"\\uc9c4\\ud589\", \"\\uc9dc\", \"\\uc9dc\\uc99d\", \"\\uc9dc\\uc99d\", \"\\uc9dc\\uc99d\\ub098\\uc694\", \"\\uc9f1\\ub098\\ub124\", \"\\ucc0c\\ub77c\", \"\\ucc28\\ubcc4\\uc810\", \"\\ucc28\\ud2b8\", \"\\ucc28\\ud2b8\", \"\\ucc38\\uace0\", \"\\ucc3d\", \"\\ucc3d\", \"\\ucc3d\\uc2e4\", \"\\ucc45\\uc784\", \"\\ucc98\\uc74c\", \"\\ucc98\\uc74c\", \"\\uccad\\uc0c9\", \"\\uccb4\\uac10\", \"\\uccb4\\uacb0\", \"\\uccb4\\ud06c\", \"\\uccb4\\ud06c\", \"\\ucd08\\ubcf4\", \"\\ucd08\\ubcf4\\uc790\", \"\\ucd08\\ubcf4\\uc790\", \"\\ucd2c\\uc601\", \"\\ucd5c\\uace0\", \"\\ucd5c\\uadfc\", \"\\ucd5c\\uc545\", \"\\ucd94\\uac00\", \"\\ucd94\\uac00\", \"\\ucd94\\ucc9c\", \"\\ucd94\\ucc9c\", \"\\ucd94\\ucc9c\\uc548\\ud568\", \"\\ucd94\\ucc9c\\uc8fc\", \"\\ucd94\\ucc9c\\uc8fc\\ub791\", \"\\ucd94\\ucd9c\", \"\\uce58\\ub098\", \"\\uce6d\\ucc2c\", \"\\uce74\\ub4dc\", \"\\uce74\\uc624\\uac8c\\uc784\\uc988\", \"\\uce74\\uce74\\uc624\\ud398\\uc774\", \"\\uce90\\uc2dc\\uc0ad\", \"\\ucf24\\ub54c\", \"\\ucf54\\ubbf8\\ub514\", \"\\ucf58\\ud150\\uce20\", \"\\ucffc\\ub9ac\\ubb38\", \"\\ud018\\uc2a4\\ud2b8\", \"\\ud035\\uba54\\ub274\", \"\\ud06c\\ubaa8\", \"\\ud074\\ub9ad\", \"\\ud0c0\\uae30\\uad00\\uc778\", \"\\ud0c0\\uc0ac\", \"\\ud0c0\\uc774\", \"\\ud0c0\\uc774\\ubc0d\", \"\\ud0dc\\ubc18\", \"\\ud0dc\\ube14\\ub9bf\\ucd08\\uae30\\ud654\", \"\\ud130\\ub514\\uc911\", \"\\ud130\\uce58\", \"\\ud1b5\\uacfc\", \"\\ud1b5\\ubcf4\", \"\\ud1b5\\ud654\\uc548\", \"\\ud22c\\uc790\", \"\\ud22c\\uc790\\uac00\\uc774\\ub4dc\", \"\\ud2b8\", \"\\ud2b9\\uc9d5\\uc8fc\", \"\\ud2c9\", \"\\ud2f0\\uc708\", \"\\ud380\\ub4dc\", \"\\ud380\\ub4dc\\ubab0\", \"\\ud3b8\\ub9ac\", \"\\ud3c9\\uac00\", \"\\ud3c9\\uc0dd\", \"\\ud3f0\", \"\\ud3f0\\ud0d3\\uc544\\ub2d8\", \"\\ud3f4\", \"\\ud45c\\uc2dc\", \"\\ud504\\ub77c\\uc784\", \"\\ud504\\ub77c\\uc784\\ud074\\ub7fd\", \"\\ud504\\ub85c\\uadf8\\ub7a8\", \"\\ud50c\", \"\\ud50c\\uc0ad\\uc81c\", \"\\ud544\\uc694\", \"\\ud558\", \"\\ud558\\ub124\\uc694\", \"\\ud558\\ub8e8\", \"\\ud558\\uccad\", \"\\ud55c\", \"\\ud55c\\ub208\", \"\\ud55c\\uc918\", \"\\ud574\", \"\\ud574\", \"\\ud574\\uacb0\", \"\\ud574\\uacb0\\ucc45\\uc774\", \"\\ud574\\uc678\", \"\\ud578\\ub4dc\\ud3f0\", \"\\ud589\", \"\\ud604\\ub300\\uc2a4\\ub9c8\\ud2b8\", \"\\ud604\\uc0c1\", \"\\ud604\\uc7ac\", \"\\ud604\\uc7ac\", \"\\ud604\\ud669\", \"\\ud638\", \"\\ud638\\uac00\\ucc3d\", \"\\ud638\\uad6c\", \"\\ud654\", \"\\ud654\\uba74\", \"\\ud655\\uc2e0\", \"\\ud655\\uc778\", \"\\ud655\\uc778\", \"\\ud658\\uc804\", \"\\ud68c\\ub2f4\", \"\\ud68c\\uc0ac\", \"\\ud6c4\", \"\\ud734\\ub300\\ud3f0\", \"\\ud734\\uc77c\", \"\\ud765\\ubbf8\", \"\\ud76c\\ub9dd\", \"\\ud83d\\ude4f\"]}, \"R\": 30, \"lambda.step\": 0.01, \"plot.opts\": {\"xlab\": \"PC1\", \"ylab\": \"PC2\"}, \"topic.order\": [6, 8, 1, 2, 3, 5, 7, 4]};\n",
       "\n",
       "function LDAvis_load_lib(url, callback){\n",
       "  var s = document.createElement('script');\n",
       "  s.src = url;\n",
       "  s.async = true;\n",
       "  s.onreadystatechange = s.onload = callback;\n",
       "  s.onerror = function(){console.warn(\"failed to load library \" + url);};\n",
       "  document.getElementsByTagName(\"head\")[0].appendChild(s);\n",
       "}\n",
       "\n",
       "if(typeof(LDAvis) !== \"undefined\"){\n",
       "   // already loaded: just create the visualization\n",
       "   !function(LDAvis){\n",
       "       new LDAvis(\"#\" + \"ldavis_el51811396366676275524237842371\", ldavis_el51811396366676275524237842371_data);\n",
       "   }(LDAvis);\n",
       "}else if(typeof define === \"function\" && define.amd){\n",
       "   // require.js is available: use it to load d3/LDAvis\n",
       "   require.config({paths: {d3: \"https://cdnjs.cloudflare.com/ajax/libs/d3/3.5.5/d3.min\"}});\n",
       "   require([\"d3\"], function(d3){\n",
       "      window.d3 = d3;\n",
       "      LDAvis_load_lib(\"https://cdn.rawgit.com/bmabey/pyLDAvis/files/ldavis.v1.0.0.js\", function(){\n",
       "        new LDAvis(\"#\" + \"ldavis_el51811396366676275524237842371\", ldavis_el51811396366676275524237842371_data);\n",
       "      });\n",
       "    });\n",
       "}else{\n",
       "    // require.js not available: dynamically load d3 & LDAvis\n",
       "    LDAvis_load_lib(\"https://cdnjs.cloudflare.com/ajax/libs/d3/3.5.5/d3.min.js\", function(){\n",
       "         LDAvis_load_lib(\"https://cdn.rawgit.com/bmabey/pyLDAvis/files/ldavis.v1.0.0.js\", function(){\n",
       "                 new LDAvis(\"#\" + \"ldavis_el51811396366676275524237842371\", ldavis_el51811396366676275524237842371_data);\n",
       "            })\n",
       "         });\n",
       "}\n",
       "</script>"
      ],
      "text/plain": [
       "PreparedData(topic_coordinates=              x         y  topics  cluster       Freq\n",
       "topic                                                \n",
       "5      0.148169  0.137887       1        1  12.814224\n",
       "7      0.081130 -0.240264       2        1  12.772248\n",
       "0     -0.293534  0.057942       3        1  12.585832\n",
       "1      0.130053  0.172324       4        1  12.556767\n",
       "2      0.203084  0.155285       5        1  12.479867\n",
       "4     -0.280357  0.095594       6        1  12.363343\n",
       "6     -0.031057 -0.068313       7        1  12.226134\n",
       "3      0.042512 -0.310455       8        1  12.201585, topic_info=      Term        Freq       Total Category  logprob  loglift\n",
       "51      주식  810.000000  810.000000  Default  30.0000  30.0000\n",
       "32    업데이트  755.000000  755.000000  Default  29.0000  29.0000\n",
       "70       앱  980.000000  980.000000  Default  28.0000  28.0000\n",
       "247     사용  669.000000  669.000000  Default  27.0000  27.0000\n",
       "62      계좌  543.000000  543.000000  Default  26.0000  26.0000\n",
       "...    ...         ...         ...      ...      ...      ...\n",
       "33      요즘   44.784564   45.773982   Topic8  -4.9135   2.0818\n",
       "13      증권  260.564734  459.590522   Topic8  -3.1525   1.5361\n",
       "1032    완전   46.820226   51.803163   Topic8  -4.8690   2.0025\n",
       "711     ㅋㅋ   61.069860  112.296759   Topic8  -4.6033   1.4945\n",
       "1830    유용   37.659747   43.686441   Topic8  -5.0868   1.9552\n",
       "\n",
       "[560 rows x 6 columns], token_table=      Topic      Freq Term\n",
       "term                      \n",
       "430       6  1.005407    ㅋ\n",
       "711       7  0.454154   ㅋㅋ\n",
       "711       8  0.543204   ㅋㅋ\n",
       "1102      7  1.001568    ㅎ\n",
       "1090      1  1.029545    ㅜ\n",
       "...     ...       ...  ...\n",
       "100       1  1.003806  휴대폰\n",
       "2228      2  0.994846   휴일\n",
       "2537      4  0.983862   흥미\n",
       "2723      8  0.982481   희망\n",
       "2480      4  0.983862    🙏\n",
       "\n",
       "[592 rows x 3 columns], R=30, lambda_step=0.01, plot_opts={'xlab': 'PC1', 'ylab': 'PC2'}, topic_order=[6, 8, 1, 2, 3, 5, 7, 4])"
      ]
     },
     "execution_count": 81,
     "metadata": {},
     "output_type": "execute_result"
    }
   ],
   "source": [
    "pyLDAvis.enable_notebook()\n",
    "model = gensim.models.wrappers.ldamallet.malletmodel2ldamodel(optimal_model)\n",
    "visualization = pyLDAvis.gensim.prepare(model, corpus, id2word)\n",
    "visualization"
   ]
  }
 ],
 "metadata": {
  "kernelspec": {
   "display_name": "Python 3",
   "language": "python",
   "name": "python3"
  },
  "language_info": {
   "codemirror_mode": {
    "name": "ipython",
    "version": 3
   },
   "file_extension": ".py",
   "mimetype": "text/x-python",
   "name": "python",
   "nbconvert_exporter": "python",
   "pygments_lexer": "ipython3",
   "version": "3.8.8"
  }
 },
 "nbformat": 4,
 "nbformat_minor": 5
}
