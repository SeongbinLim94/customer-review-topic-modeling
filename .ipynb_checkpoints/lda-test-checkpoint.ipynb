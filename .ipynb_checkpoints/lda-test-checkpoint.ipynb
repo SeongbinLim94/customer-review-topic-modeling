{
 "cells": [
  {
   "cell_type": "code",
   "execution_count": 1,
   "metadata": {},
   "outputs": [
    {
     "ename": "ModuleNotFoundError",
     "evalue": "No module named 'khaiii'",
     "output_type": "error",
     "traceback": [
      "\u001b[1;31m---------------------------------------------------------------------------\u001b[0m",
      "\u001b[1;31mModuleNotFoundError\u001b[0m                       Traceback (most recent call last)",
      "\u001b[1;32m<ipython-input-1-71c2baf65691>\u001b[0m in \u001b[0;36m<module>\u001b[1;34m\u001b[0m\n\u001b[0;32m      3\u001b[0m \u001b[1;32mimport\u001b[0m \u001b[0mmatplotlib\u001b[0m\u001b[1;33m.\u001b[0m\u001b[0mpylab\u001b[0m \u001b[1;32mas\u001b[0m \u001b[0mplt\u001b[0m\u001b[1;33m\u001b[0m\u001b[1;33m\u001b[0m\u001b[0m\n\u001b[0;32m      4\u001b[0m \u001b[1;32mfrom\u001b[0m \u001b[0mmatplotlib\u001b[0m \u001b[1;32mimport\u001b[0m \u001b[0mfont_manager\u001b[0m\u001b[1;33m,\u001b[0m \u001b[0mrc\u001b[0m\u001b[1;33m\u001b[0m\u001b[1;33m\u001b[0m\u001b[0m\n\u001b[1;32m----> 5\u001b[1;33m \u001b[1;32mimport\u001b[0m \u001b[0mkhaiii\u001b[0m\u001b[1;33m\u001b[0m\u001b[1;33m\u001b[0m\u001b[0m\n\u001b[0m\u001b[0;32m      6\u001b[0m \u001b[1;32mfrom\u001b[0m \u001b[0mkhaiii\u001b[0m \u001b[1;32mimport\u001b[0m \u001b[0mKhaiiiApi\u001b[0m\u001b[1;33m\u001b[0m\u001b[1;33m\u001b[0m\u001b[0m\n\u001b[0;32m      7\u001b[0m \u001b[1;32mimport\u001b[0m \u001b[0mseaborn\u001b[0m \u001b[1;32mas\u001b[0m \u001b[0msns\u001b[0m\u001b[1;33m\u001b[0m\u001b[1;33m\u001b[0m\u001b[0m\n",
      "\u001b[1;31mModuleNotFoundError\u001b[0m: No module named 'khaiii'"
     ]
    }
   ],
   "source": [
    "import pandas as pd\n",
    "import numpy as np\n",
    "import matplotlib.pylab as plt\n",
    "from matplotlib import font_manager, rc\n",
    "import khaiii\n",
    "from khaiii import KhaiiiApi\n",
    "import seaborn as sns\n",
    "import re\n",
    "from gensim import corpora\n",
    "from gensim import models\n",
    "from gensim.models import LdaModel\n",
    "from gensim.models.coherencemodel import CoherenceModel\n",
    "import pyLDAvis\n",
    "import pyLDAvis.gensim\n",
    "import matplotlib.pyplot as plt\n",
    "%matplotlib inline"
   ]
  },
  {
   "cell_type": "code",
   "execution_count": 44,
   "metadata": {},
   "outputs": [
    {
     "name": "stderr",
     "output_type": "stream",
     "text": [
      "/home/tako/anaconda3/envs/mingu/lib/python3.8/site-packages/ipykernel/ipkernel.py:283: DeprecationWarning: `should_run_async` will not call `transform_cell` automatically in the future. Please pass the result to `transformed_cell` argument and any exception that happen during thetransform in `preprocessing_exc_tuple` in IPython 7.17 and above.\n",
      "  and should_run_async(code)\n"
     ]
    }
   ],
   "source": [
    "apple = font_manager.FontProperties(fname = '/usr/share/fonts/truetype/nanum/NanumMyeongjo.ttf').get_name()\n",
    "rc('font', family = apple)"
   ]
  },
  {
   "cell_type": "code",
   "execution_count": 45,
   "metadata": {},
   "outputs": [
    {
     "name": "stderr",
     "output_type": "stream",
     "text": [
      "/home/tako/anaconda3/envs/mingu/lib/python3.8/site-packages/ipykernel/ipkernel.py:283: DeprecationWarning: `should_run_async` will not call `transform_cell` automatically in the future. Please pass the result to `transformed_cell` argument and any exception that happen during thetransform in `preprocessing_exc_tuple` in IPython 7.17 and above.\n",
      "  and should_run_async(code)\n"
     ]
    }
   ],
   "source": [
    "kb_df = pd.read_csv('kb.csv').drop(columns='Unnamed: 0')"
   ]
  },
  {
   "cell_type": "code",
   "execution_count": 46,
   "metadata": {},
   "outputs": [
    {
     "name": "stderr",
     "output_type": "stream",
     "text": [
      "/home/tako/anaconda3/envs/mingu/lib/python3.8/site-packages/ipykernel/ipkernel.py:283: DeprecationWarning: `should_run_async` will not call `transform_cell` automatically in the future. Please pass the result to `transformed_cell` argument and any exception that happen during thetransform in `preprocessing_exc_tuple` in IPython 7.17 and above.\n",
      "  and should_run_async(code)\n"
     ]
    },
    {
     "data": {
      "text/html": [
       "<div>\n",
       "<style scoped>\n",
       "    .dataframe tbody tr th:only-of-type {\n",
       "        vertical-align: middle;\n",
       "    }\n",
       "\n",
       "    .dataframe tbody tr th {\n",
       "        vertical-align: top;\n",
       "    }\n",
       "\n",
       "    .dataframe thead th {\n",
       "        text-align: right;\n",
       "    }\n",
       "</style>\n",
       "<table border=\"1\" class=\"dataframe\">\n",
       "  <thead>\n",
       "    <tr style=\"text-align: right;\">\n",
       "      <th></th>\n",
       "      <th>DATE</th>\n",
       "      <th>STAR</th>\n",
       "      <th>LIKE</th>\n",
       "      <th>REVIEW</th>\n",
       "    </tr>\n",
       "  </thead>\n",
       "  <tbody>\n",
       "    <tr>\n",
       "      <th>0</th>\n",
       "      <td>2021-3-9</td>\n",
       "      <td>별표 5개 만점에 1개를 받았습니다.</td>\n",
       "      <td>5</td>\n",
       "      <td>진짜 리뷰 지금까지 살면서 처음 써보는데 이따위 쓰레기 증권앱이 존재한다는게 참 어...</td>\n",
       "    </tr>\n",
       "    <tr>\n",
       "      <th>1</th>\n",
       "      <td>2021-3-10</td>\n",
       "      <td>별표 5개 만점에 1개를 받았습니다.</td>\n",
       "      <td>1</td>\n",
       "      <td>최악이네요.... 업데이트 이후 실행단계에서 다음으로 안넘어가네요. 요즘같은 시기에...</td>\n",
       "    </tr>\n",
       "    <tr>\n",
       "      <th>2</th>\n",
       "      <td>2021-3-8</td>\n",
       "      <td>별표 5개 만점에 5개를 받았습니다.</td>\n",
       "      <td>8</td>\n",
       "      <td>최근에 코스피, 코스피200, 코스닥, 코스닥 150 등 지수들 차트가 안뜨는 경우...</td>\n",
       "    </tr>\n",
       "    <tr>\n",
       "      <th>3</th>\n",
       "      <td>2021-3-10</td>\n",
       "      <td>별표 5개 만점에 2개를 받았습니다.</td>\n",
       "      <td>1</td>\n",
       "      <td>주식현재가 창으로 넘어가면 왜 무조건 호가창을 보여주게 하나요 옵션으로 바꾸게 해주...</td>\n",
       "    </tr>\n",
       "    <tr>\n",
       "      <th>4</th>\n",
       "      <td>2021-3-5</td>\n",
       "      <td>별표 5개 만점에 2개를 받았습니다.</td>\n",
       "      <td>1</td>\n",
       "      <td>진짜 플레이 앱에 리뷰 살면서 한번도 안써봤는데 제발 개발진 여러분 부탁이니깐 1월...</td>\n",
       "    </tr>\n",
       "  </tbody>\n",
       "</table>\n",
       "</div>"
      ],
      "text/plain": [
       "        DATE                  STAR  LIKE  \\\n",
       "0   2021-3-9  별표 5개 만점에 1개를 받았습니다.     5   \n",
       "1  2021-3-10  별표 5개 만점에 1개를 받았습니다.     1   \n",
       "2   2021-3-8  별표 5개 만점에 5개를 받았습니다.     8   \n",
       "3  2021-3-10  별표 5개 만점에 2개를 받았습니다.     1   \n",
       "4   2021-3-5  별표 5개 만점에 2개를 받았습니다.     1   \n",
       "\n",
       "                                              REVIEW  \n",
       "0  진짜 리뷰 지금까지 살면서 처음 써보는데 이따위 쓰레기 증권앱이 존재한다는게 참 어...  \n",
       "1  최악이네요.... 업데이트 이후 실행단계에서 다음으로 안넘어가네요. 요즘같은 시기에...  \n",
       "2  최근에 코스피, 코스피200, 코스닥, 코스닥 150 등 지수들 차트가 안뜨는 경우...  \n",
       "3  주식현재가 창으로 넘어가면 왜 무조건 호가창을 보여주게 하나요 옵션으로 바꾸게 해주...  \n",
       "4  진짜 플레이 앱에 리뷰 살면서 한번도 안써봤는데 제발 개발진 여러분 부탁이니깐 1월...  "
      ]
     },
     "execution_count": 46,
     "metadata": {},
     "output_type": "execute_result"
    }
   ],
   "source": [
    "kb_df.head()"
   ]
  },
  {
   "cell_type": "code",
   "execution_count": 5,
   "metadata": {},
   "outputs": [
    {
     "data": {
      "text/plain": [
       "(7360, 4)"
      ]
     },
     "execution_count": 5,
     "metadata": {},
     "output_type": "execute_result"
    }
   ],
   "source": [
    "kb_df.shape"
   ]
  },
  {
   "cell_type": "markdown",
   "metadata": {},
   "source": [
    "### Data Preprocessing ###"
   ]
  },
  {
   "cell_type": "code",
   "execution_count": 6,
   "metadata": {},
   "outputs": [
    {
     "data": {
      "text/html": [
       "<div>\n",
       "<style scoped>\n",
       "    .dataframe tbody tr th:only-of-type {\n",
       "        vertical-align: middle;\n",
       "    }\n",
       "\n",
       "    .dataframe tbody tr th {\n",
       "        vertical-align: top;\n",
       "    }\n",
       "\n",
       "    .dataframe thead th {\n",
       "        text-align: right;\n",
       "    }\n",
       "</style>\n",
       "<table border=\"1\" class=\"dataframe\">\n",
       "  <thead>\n",
       "    <tr style=\"text-align: right;\">\n",
       "      <th></th>\n",
       "      <th>DATE</th>\n",
       "      <th>STAR</th>\n",
       "      <th>LIKE</th>\n",
       "      <th>REVIEW</th>\n",
       "    </tr>\n",
       "  </thead>\n",
       "  <tbody>\n",
       "    <tr>\n",
       "      <th>0</th>\n",
       "      <td>2021-3-9</td>\n",
       "      <td>1</td>\n",
       "      <td>5</td>\n",
       "      <td>진짜 리뷰 지금까지 살면서 처음 써보는데 이따위 쓰레기 증권앱이 존재한다는게 참 어...</td>\n",
       "    </tr>\n",
       "    <tr>\n",
       "      <th>1</th>\n",
       "      <td>2021-3-10</td>\n",
       "      <td>1</td>\n",
       "      <td>1</td>\n",
       "      <td>최악이네요.... 업데이트 이후 실행단계에서 다음으로 안넘어가네요. 요즘같은 시기에...</td>\n",
       "    </tr>\n",
       "    <tr>\n",
       "      <th>2</th>\n",
       "      <td>2021-3-8</td>\n",
       "      <td>5</td>\n",
       "      <td>8</td>\n",
       "      <td>최근에 코스피, 코스피200, 코스닥, 코스닥 150 등 지수들 차트가 안뜨는 경우...</td>\n",
       "    </tr>\n",
       "    <tr>\n",
       "      <th>3</th>\n",
       "      <td>2021-3-10</td>\n",
       "      <td>2</td>\n",
       "      <td>1</td>\n",
       "      <td>주식현재가 창으로 넘어가면 왜 무조건 호가창을 보여주게 하나요 옵션으로 바꾸게 해주...</td>\n",
       "    </tr>\n",
       "    <tr>\n",
       "      <th>4</th>\n",
       "      <td>2021-3-5</td>\n",
       "      <td>2</td>\n",
       "      <td>1</td>\n",
       "      <td>진짜 플레이 앱에 리뷰 살면서 한번도 안써봤는데 제발 개발진 여러분 부탁이니깐 1월...</td>\n",
       "    </tr>\n",
       "  </tbody>\n",
       "</table>\n",
       "</div>"
      ],
      "text/plain": [
       "        DATE STAR  LIKE                                             REVIEW\n",
       "0   2021-3-9    1     5  진짜 리뷰 지금까지 살면서 처음 써보는데 이따위 쓰레기 증권앱이 존재한다는게 참 어...\n",
       "1  2021-3-10    1     1  최악이네요.... 업데이트 이후 실행단계에서 다음으로 안넘어가네요. 요즘같은 시기에...\n",
       "2   2021-3-8    5     8  최근에 코스피, 코스피200, 코스닥, 코스닥 150 등 지수들 차트가 안뜨는 경우...\n",
       "3  2021-3-10    2     1  주식현재가 창으로 넘어가면 왜 무조건 호가창을 보여주게 하나요 옵션으로 바꾸게 해주...\n",
       "4   2021-3-5    2     1  진짜 플레이 앱에 리뷰 살면서 한번도 안써봤는데 제발 개발진 여러분 부탁이니깐 1월..."
      ]
     },
     "execution_count": 6,
     "metadata": {},
     "output_type": "execute_result"
    }
   ],
   "source": [
    "kb_df['STAR'] = kb_df['STAR'].apply(lambda x: x[10])\n",
    "kb_df.head()"
   ]
  },
  {
   "cell_type": "code",
   "execution_count": 7,
   "metadata": {},
   "outputs": [
    {
     "name": "stdout",
     "output_type": "stream",
     "text": [
      "max date is 2021-3-9. min date is 2016-1-10.\n"
     ]
    }
   ],
   "source": [
    "max_date = kb_df['DATE'].max()\n",
    "min_date = kb_df['DATE'].min()\n",
    "\n",
    "print(f'max date is {max_date}. min date is {min_date}.')"
   ]
  },
  {
   "cell_type": "markdown",
   "metadata": {},
   "source": [
    "### Exploratory Data Analysis ###"
   ]
  },
  {
   "cell_type": "code",
   "execution_count": 8,
   "metadata": {},
   "outputs": [],
   "source": [
    "ratings = kb_df['STAR'].value_counts().sort_index()\n",
    "rating_df = pd.DataFrame(ratings)\n",
    "rating_df['RATING'] = rating_df['STAR'] / rating_df['STAR'].sum()"
   ]
  },
  {
   "cell_type": "code",
   "execution_count": 9,
   "metadata": {},
   "outputs": [
    {
     "data": {
      "text/html": [
       "<div>\n",
       "<style scoped>\n",
       "    .dataframe tbody tr th:only-of-type {\n",
       "        vertical-align: middle;\n",
       "    }\n",
       "\n",
       "    .dataframe tbody tr th {\n",
       "        vertical-align: top;\n",
       "    }\n",
       "\n",
       "    .dataframe thead th {\n",
       "        text-align: right;\n",
       "    }\n",
       "</style>\n",
       "<table border=\"1\" class=\"dataframe\">\n",
       "  <thead>\n",
       "    <tr style=\"text-align: right;\">\n",
       "      <th></th>\n",
       "      <th>STAR</th>\n",
       "      <th>RATING</th>\n",
       "    </tr>\n",
       "  </thead>\n",
       "  <tbody>\n",
       "    <tr>\n",
       "      <th>1</th>\n",
       "      <td>3529</td>\n",
       "      <td>0.479484</td>\n",
       "    </tr>\n",
       "    <tr>\n",
       "      <th>2</th>\n",
       "      <td>427</td>\n",
       "      <td>0.058016</td>\n",
       "    </tr>\n",
       "    <tr>\n",
       "      <th>3</th>\n",
       "      <td>502</td>\n",
       "      <td>0.068207</td>\n",
       "    </tr>\n",
       "    <tr>\n",
       "      <th>4</th>\n",
       "      <td>705</td>\n",
       "      <td>0.095788</td>\n",
       "    </tr>\n",
       "    <tr>\n",
       "      <th>5</th>\n",
       "      <td>2197</td>\n",
       "      <td>0.298505</td>\n",
       "    </tr>\n",
       "  </tbody>\n",
       "</table>\n",
       "</div>"
      ],
      "text/plain": [
       "   STAR    RATING\n",
       "1  3529  0.479484\n",
       "2   427  0.058016\n",
       "3   502  0.068207\n",
       "4   705  0.095788\n",
       "5  2197  0.298505"
      ]
     },
     "execution_count": 9,
     "metadata": {},
     "output_type": "execute_result"
    }
   ],
   "source": [
    "rating_df.head()"
   ]
  },
  {
   "cell_type": "code",
   "execution_count": 10,
   "metadata": {},
   "outputs": [
    {
     "data": {
      "image/png": "[encoded data removed]",
      "text/plain": [
       "<Figure size 432x288 with 1 Axes>"
      ]
     },
     "metadata": {
      "needs_background": "light"
     },
     "output_type": "display_data"
    }
   ],
   "source": [
    "sns.barplot(x=rating_df.index, y=rating_df['RATING'])\n",
    "plt.title(\"별점 점수별 비율\", fontsize=20)\n",
    "plt.show()"
   ]
  },
  {
   "cell_type": "markdown",
   "metadata": {},
   "source": [
    "### Natural Language Processing ###"
   ]
  },
  {
   "cell_type": "code",
   "execution_count": 11,
   "metadata": {},
   "outputs": [],
   "source": [
    "def extract_noun(word_object_list):\n",
    "    extracted_word_noun_list = []\n",
    "    \n",
    "    for i, word_object in enumerate(word_object_list):\n",
    "        word_object_morphs = word_object.morphs\n",
    "        \n",
    "        for word in word_object_morphs:\n",
    "            if word.tag in ['NNG', 'NNP']:\n",
    "                extracted_word_noun_list.append(word.lex)\n",
    "    \n",
    "    return extracted_word_noun_list\n",
    "\n",
    "\n",
    "def execute_khaiii(user_comment_list):\n",
    "    sentence_analyze_components = []\n",
    "    kha_api = KhaiiiApi()\n",
    "    \n",
    "    for i, user_comment in enumerate(user_comment_list):\n",
    "        word_object_list = []\n",
    "        user_comment_analyze_objects = kha_api.analyze(user_comment)\n",
    "        \n",
    "        for user_comment_analyze_object in user_comment_analyze_objects:\n",
    "            word_object_list.append(user_comment_analyze_object)\n",
    "            \n",
    "        extracted_noun_list = extract_noun(word_object_list)  \n",
    "        sentence_analyze_components.append(extracted_noun_list)\n",
    "    \n",
    "    return sentence_analyze_components"
   ]
  },
  {
   "cell_type": "code",
   "execution_count": 12,
   "metadata": {},
   "outputs": [],
   "source": [
    "review_list = kb_df['REVIEW'].tolist()\n",
    "all_comment_noun_list = execute_khaiii(review_list)"
   ]
  },
  {
   "cell_type": "code",
   "execution_count": 13,
   "metadata": {},
   "outputs": [
    {
     "data": {
      "text/plain": [
       "['진짜',\n",
       " '리뷰',\n",
       " '지금',\n",
       " '처음',\n",
       " '쓰레기',\n",
       " '증권',\n",
       " '존재',\n",
       " '어처구니',\n",
       " '일반',\n",
       " '어플',\n",
       " '돈',\n",
       " '돈',\n",
       " '거래',\n",
       " '플',\n",
       " '구',\n",
       " '허접',\n",
       " '구',\n",
       " '운영',\n",
       " '이',\n",
       " '구',\n",
       " '관리',\n",
       " '당장']"
      ]
     },
     "execution_count": 13,
     "metadata": {},
     "output_type": "execute_result"
    }
   ],
   "source": [
    "all_comment_noun_list[0]"
   ]
  },
  {
   "cell_type": "code",
   "execution_count": 14,
   "metadata": {},
   "outputs": [
    {
     "data": {
      "text/plain": [
       "'진짜 리뷰 지금까지 살면서 처음 써보는데 이따위 쓰레기 증권앱이 존재한다는게 참 어처구니 없음. 그냥 일반 어플도 아니고 돈으로 돈을 거래하는 어플인데 이따구로 허접하나;; 이따구로 운영하고 이따구로 관리할거면 그냥 하지마세요 제발. 당장 지웁니다'"
      ]
     },
     "execution_count": 14,
     "metadata": {},
     "output_type": "execute_result"
    }
   ],
   "source": [
    "kb_df['REVIEW'][0]"
   ]
  },
  {
   "cell_type": "code",
   "execution_count": 15,
   "metadata": {},
   "outputs": [],
   "source": [
    "def delete_stopwords(word):\n",
    "    regex = '[ㄱ-ㅎㅏ-ㅣ]+'\n",
    "    changed_word = re.sub(pattern=regex, repl='None', string=word)\n",
    "    \n",
    "    return changed_word\n",
    "\n",
    "def get_dataframe_from_noun_list(extracted_user_comment_noun_list):\n",
    "    word_count_dict = {}\n",
    "    \n",
    "    for i, word_list in enumerate(extracted_user_comment_noun_list):\n",
    "        for word in word_list:\n",
    "            if word not in word_count_dict:\n",
    "                word_count_dict[word] = 1\n",
    "            else:\n",
    "                word_count_dict[word] += 1\n",
    "                \n",
    "    word_count_df = pd.DataFrame.from_dict(word_count_dict, orient='index') \\\n",
    "                                .reset_index() \\\n",
    "                                .rename(columns = {'index': 'word', 0 : 'count'}) \\\n",
    "                                .sort_values(by='count', ascending=False) \\\n",
    "                                .reset_index(drop=True)\n",
    "    word_count_df['word'] = word_count_df['word'].apply(delete_stopwords)\n",
    "    word_count_df_new = word_count_df[word_count_df['word']!='None']\n",
    "    \n",
    "    return word_count_df_new\n",
    "\n",
    "def draw_graph(word_count_df_new):\n",
    "    plt.figure(figsize = (15, 5))\n",
    "    sns.barplot(x = 'word', y = 'count', data=word_count_df_new[0:15])\n",
    "    plt.title('high frequency Top 15 words', fontsize = 15)\n",
    "    plt.xticks(fontsize = 15)\n",
    "    plt.show()"
   ]
  },
  {
   "cell_type": "code",
   "execution_count": 16,
   "metadata": {},
   "outputs": [
    {
     "data": {
      "image/png": "[encoded data removed]",
      "text/plain": [
       "<Figure size 1080x360 with 1 Axes>"
      ]
     },
     "metadata": {
      "needs_background": "light"
     },
     "output_type": "display_data"
    }
   ],
   "source": [
    "all_comment_word_count_df = get_dataframe_from_noun_list(all_comment_noun_list)\n",
    "draw_graph(all_comment_word_count_df)"
   ]
  },
  {
   "cell_type": "code",
   "execution_count": 25,
   "metadata": {},
   "outputs": [
    {
     "name": "stdout",
     "output_type": "stream",
     "text": [
      "[[(0, 1), (1, 1), (2, 3), (3, 1), (4, 2), (5, 1), (6, 1), (7, 1), (8, 1), (9, 1), (10, 1), (11, 1), (12, 1), (13, 1), (14, 1), (15, 1), (16, 1), (17, 1), (18, 1)]]\n"
     ]
    }
   ],
   "source": [
    "id2word = corpora.Dictionary(all_comment_noun_list)\n",
    "\n",
    "texts = all_comment_noun_list\n",
    "\n",
    "corpus = [id2word.doc2bow(text) for text in texts]\n",
    "\n",
    "print(corpus[:1])"
   ]
  },
  {
   "cell_type": "code",
   "execution_count": 36,
   "metadata": {},
   "outputs": [
    {
     "data": {
      "text/plain": [
       "['진짜',\n",
       " '리뷰',\n",
       " '지금',\n",
       " '처음',\n",
       " '쓰레기',\n",
       " '증권',\n",
       " '존재',\n",
       " '어처구니',\n",
       " '일반',\n",
       " '어플',\n",
       " '돈',\n",
       " '돈',\n",
       " '거래',\n",
       " '플',\n",
       " '구',\n",
       " '허접',\n",
       " '구',\n",
       " '운영',\n",
       " '이',\n",
       " '구',\n",
       " '관리',\n",
       " '당장']"
      ]
     },
     "execution_count": 36,
     "metadata": {},
     "output_type": "execute_result"
    }
   ],
   "source": [
    "all_comment_noun_list[0]"
   ]
  },
  {
   "cell_type": "code",
   "execution_count": 33,
   "metadata": {},
   "outputs": [
    {
     "data": {
      "text/plain": [
       "<gensim.corpora.dictionary.Dictionary at 0x7f6e61d44b20>"
      ]
     },
     "execution_count": 33,
     "metadata": {},
     "output_type": "execute_result"
    }
   ],
   "source": [
    "id2word"
   ]
  },
  {
   "cell_type": "code",
   "execution_count": 31,
   "metadata": {},
   "outputs": [
    {
     "name": "stdout",
     "output_type": "stream",
     "text": [
      "(0, '0.072*\"주식\" + 0.022*\"해외\" + 0.020*\"증권\" + 0.020*\"정보\" + 0.019*\"거래\"')\n",
      "(1, '0.045*\"계좌\" + 0.032*\"사용\" + 0.018*\"인증\" + 0.017*\"번호\" + 0.016*\"등록\"')\n",
      "(2, '0.021*\"자산\" + 0.020*\"관리\" + 0.019*\"오류\" + 0.018*\"화면\" + 0.015*\"어플\"')\n",
      "(3, '0.043*\"종목\" + 0.025*\"기능\" + 0.020*\"관심\" + 0.016*\"굿\" + 0.012*\"화면\"')\n",
      "(4, '0.042*\"업데이트\" + 0.034*\"앱\" + 0.023*\"접속\" + 0.014*\"증권사\" + 0.011*\"불편\"')\n"
     ]
    }
   ],
   "source": [
    "num_topics = 5\n",
    "ldamodel = LdaModel(corpus, num_topics, id2word, passes=15)\n",
    "topics = ldamodel.print_topics(num_words=5)\n",
    "for topic in topics:\n",
    "    print(topic)"
   ]
  },
  {
   "cell_type": "code",
   "execution_count": 38,
   "metadata": {},
   "outputs": [
    {
     "name": "stdout",
     "output_type": "stream",
     "text": [
      "\n",
      "Coherence Score:  0.39132840654858847\n"
     ]
    }
   ],
   "source": [
    "coherence_model_lda = CoherenceModel(model=ldamodel, texts=texts, dictionary=id2word, coherence='c_v')\n",
    "coherence_lda = coherence_model_lda.get_coherence()\n",
    "print('\\nCoherence Score: ', coherence_lda)"
   ]
  },
  {
   "cell_type": "code",
   "execution_count": null,
   "metadata": {},
   "outputs": [],
   "source": [
    "pyLDAvis.enable_notebook()\n",
    "vis = pyLDAvis.gensim.prepare(lda_model, corpus, id2word)\n",
    "vis"
   ]
  }
 ],
 "metadata": {
  "kernelspec": {
   "display_name": "Python 3",
   "language": "python",
   "name": "python3"
  },
  "language_info": {
   "codemirror_mode": {
    "name": "ipython",
    "version": 3
   },
   "file_extension": ".py",
   "mimetype": "text/x-python",
   "name": "python",
   "nbconvert_exporter": "python",
   "pygments_lexer": "ipython3",
   "version": "3.8.3"
  }
 },
 "nbformat": 4,
 "nbformat_minor": 5
}
